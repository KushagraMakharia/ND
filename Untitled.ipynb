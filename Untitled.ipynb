{
 "cells": [
  {
   "cell_type": "code",
   "execution_count": 1,
   "metadata": {},
   "outputs": [],
   "source": [
    "import pandas as pd\n",
    "import json"
   ]
  },
  {
   "cell_type": "code",
   "execution_count": 2,
   "metadata": {},
   "outputs": [
    {
     "data": {
      "text/html": [
       "<div>\n",
       "<style scoped>\n",
       "    .dataframe tbody tr th:only-of-type {\n",
       "        vertical-align: middle;\n",
       "    }\n",
       "\n",
       "    .dataframe tbody tr th {\n",
       "        vertical-align: top;\n",
       "    }\n",
       "\n",
       "    .dataframe thead th {\n",
       "        text-align: right;\n",
       "    }\n",
       "</style>\n",
       "<table border=\"1\" class=\"dataframe\">\n",
       "  <thead>\n",
       "    <tr style=\"text-align: right;\">\n",
       "      <th></th>\n",
       "      <th>gender</th>\n",
       "      <th>age</th>\n",
       "      <th>id</th>\n",
       "      <th>became_member_on</th>\n",
       "      <th>income</th>\n",
       "    </tr>\n",
       "  </thead>\n",
       "  <tbody>\n",
       "    <tr>\n",
       "      <th>0</th>\n",
       "      <td>None</td>\n",
       "      <td>118</td>\n",
       "      <td>68be06ca386d4c31939f3a4f0e3dd783</td>\n",
       "      <td>20170212</td>\n",
       "      <td>NaN</td>\n",
       "    </tr>\n",
       "    <tr>\n",
       "      <th>1</th>\n",
       "      <td>F</td>\n",
       "      <td>55</td>\n",
       "      <td>0610b486422d4921ae7d2bf64640c50b</td>\n",
       "      <td>20170715</td>\n",
       "      <td>112000.0</td>\n",
       "    </tr>\n",
       "    <tr>\n",
       "      <th>2</th>\n",
       "      <td>None</td>\n",
       "      <td>118</td>\n",
       "      <td>38fe809add3b4fcf9315a9694bb96ff5</td>\n",
       "      <td>20180712</td>\n",
       "      <td>NaN</td>\n",
       "    </tr>\n",
       "    <tr>\n",
       "      <th>3</th>\n",
       "      <td>F</td>\n",
       "      <td>75</td>\n",
       "      <td>78afa995795e4d85b5d9ceeca43f5fef</td>\n",
       "      <td>20170509</td>\n",
       "      <td>100000.0</td>\n",
       "    </tr>\n",
       "    <tr>\n",
       "      <th>4</th>\n",
       "      <td>None</td>\n",
       "      <td>118</td>\n",
       "      <td>a03223e636434f42ac4c3df47e8bac43</td>\n",
       "      <td>20170804</td>\n",
       "      <td>NaN</td>\n",
       "    </tr>\n",
       "  </tbody>\n",
       "</table>\n",
       "</div>"
      ],
      "text/plain": [
       "  gender  age                                id  became_member_on    income\n",
       "0   None  118  68be06ca386d4c31939f3a4f0e3dd783          20170212       NaN\n",
       "1      F   55  0610b486422d4921ae7d2bf64640c50b          20170715  112000.0\n",
       "2   None  118  38fe809add3b4fcf9315a9694bb96ff5          20180712       NaN\n",
       "3      F   75  78afa995795e4d85b5d9ceeca43f5fef          20170509  100000.0\n",
       "4   None  118  a03223e636434f42ac4c3df47e8bac43          20170804       NaN"
      ]
     },
     "execution_count": 2,
     "metadata": {},
     "output_type": "execute_result"
    }
   ],
   "source": [
    "profile = pd.read_json(\"./profile.json\", lines=True)\n",
    "profile.head()"
   ]
  },
  {
   "cell_type": "code",
   "execution_count": 3,
   "metadata": {},
   "outputs": [
    {
     "data": {
      "text/html": [
       "<div>\n",
       "<style scoped>\n",
       "    .dataframe tbody tr th:only-of-type {\n",
       "        vertical-align: middle;\n",
       "    }\n",
       "\n",
       "    .dataframe tbody tr th {\n",
       "        vertical-align: top;\n",
       "    }\n",
       "\n",
       "    .dataframe thead th {\n",
       "        text-align: right;\n",
       "    }\n",
       "</style>\n",
       "<table border=\"1\" class=\"dataframe\">\n",
       "  <thead>\n",
       "    <tr style=\"text-align: right;\">\n",
       "      <th></th>\n",
       "      <th>reward</th>\n",
       "      <th>channels</th>\n",
       "      <th>difficulty</th>\n",
       "      <th>duration</th>\n",
       "      <th>offer_type</th>\n",
       "      <th>id</th>\n",
       "    </tr>\n",
       "  </thead>\n",
       "  <tbody>\n",
       "    <tr>\n",
       "      <th>0</th>\n",
       "      <td>10</td>\n",
       "      <td>[email, mobile, social]</td>\n",
       "      <td>10</td>\n",
       "      <td>7</td>\n",
       "      <td>bogo</td>\n",
       "      <td>ae264e3637204a6fb9bb56bc8210ddfd</td>\n",
       "    </tr>\n",
       "    <tr>\n",
       "      <th>1</th>\n",
       "      <td>10</td>\n",
       "      <td>[web, email, mobile, social]</td>\n",
       "      <td>10</td>\n",
       "      <td>5</td>\n",
       "      <td>bogo</td>\n",
       "      <td>4d5c57ea9a6940dd891ad53e9dbe8da0</td>\n",
       "    </tr>\n",
       "    <tr>\n",
       "      <th>2</th>\n",
       "      <td>0</td>\n",
       "      <td>[web, email, mobile]</td>\n",
       "      <td>0</td>\n",
       "      <td>4</td>\n",
       "      <td>informational</td>\n",
       "      <td>3f207df678b143eea3cee63160fa8bed</td>\n",
       "    </tr>\n",
       "    <tr>\n",
       "      <th>3</th>\n",
       "      <td>5</td>\n",
       "      <td>[web, email, mobile]</td>\n",
       "      <td>5</td>\n",
       "      <td>7</td>\n",
       "      <td>bogo</td>\n",
       "      <td>9b98b8c7a33c4b65b9aebfe6a799e6d9</td>\n",
       "    </tr>\n",
       "    <tr>\n",
       "      <th>4</th>\n",
       "      <td>5</td>\n",
       "      <td>[web, email]</td>\n",
       "      <td>20</td>\n",
       "      <td>10</td>\n",
       "      <td>discount</td>\n",
       "      <td>0b1e1539f2cc45b7b9fa7c272da2e1d7</td>\n",
       "    </tr>\n",
       "  </tbody>\n",
       "</table>\n",
       "</div>"
      ],
      "text/plain": [
       "   reward                      channels  difficulty  duration     offer_type  \\\n",
       "0      10       [email, mobile, social]          10         7           bogo   \n",
       "1      10  [web, email, mobile, social]          10         5           bogo   \n",
       "2       0          [web, email, mobile]           0         4  informational   \n",
       "3       5          [web, email, mobile]           5         7           bogo   \n",
       "4       5                  [web, email]          20        10       discount   \n",
       "\n",
       "                                 id  \n",
       "0  ae264e3637204a6fb9bb56bc8210ddfd  \n",
       "1  4d5c57ea9a6940dd891ad53e9dbe8da0  \n",
       "2  3f207df678b143eea3cee63160fa8bed  \n",
       "3  9b98b8c7a33c4b65b9aebfe6a799e6d9  \n",
       "4  0b1e1539f2cc45b7b9fa7c272da2e1d7  "
      ]
     },
     "execution_count": 3,
     "metadata": {},
     "output_type": "execute_result"
    }
   ],
   "source": [
    "portfolio = pd.read_json(\"./portfolio.json\", lines=True)\n",
    "portfolio.head()"
   ]
  },
  {
   "cell_type": "code",
   "execution_count": 4,
   "metadata": {},
   "outputs": [
    {
     "data": {
      "text/plain": [
       "10"
      ]
     },
     "execution_count": 4,
     "metadata": {},
     "output_type": "execute_result"
    }
   ],
   "source": [
    "len(portfolio)"
   ]
  },
  {
   "cell_type": "code",
   "execution_count": 5,
   "metadata": {},
   "outputs": [
    {
     "data": {
      "text/html": [
       "<div>\n",
       "<style scoped>\n",
       "    .dataframe tbody tr th:only-of-type {\n",
       "        vertical-align: middle;\n",
       "    }\n",
       "\n",
       "    .dataframe tbody tr th {\n",
       "        vertical-align: top;\n",
       "    }\n",
       "\n",
       "    .dataframe thead th {\n",
       "        text-align: right;\n",
       "    }\n",
       "</style>\n",
       "<table border=\"1\" class=\"dataframe\">\n",
       "  <thead>\n",
       "    <tr style=\"text-align: right;\">\n",
       "      <th></th>\n",
       "      <th>person</th>\n",
       "      <th>event</th>\n",
       "      <th>value</th>\n",
       "      <th>time</th>\n",
       "    </tr>\n",
       "  </thead>\n",
       "  <tbody>\n",
       "    <tr>\n",
       "      <th>0</th>\n",
       "      <td>78afa995795e4d85b5d9ceeca43f5fef</td>\n",
       "      <td>offer received</td>\n",
       "      <td>{'offer id': '9b98b8c7a33c4b65b9aebfe6a799e6d9'}</td>\n",
       "      <td>0</td>\n",
       "    </tr>\n",
       "    <tr>\n",
       "      <th>1</th>\n",
       "      <td>a03223e636434f42ac4c3df47e8bac43</td>\n",
       "      <td>offer received</td>\n",
       "      <td>{'offer id': '0b1e1539f2cc45b7b9fa7c272da2e1d7'}</td>\n",
       "      <td>0</td>\n",
       "    </tr>\n",
       "    <tr>\n",
       "      <th>2</th>\n",
       "      <td>e2127556f4f64592b11af22de27a7932</td>\n",
       "      <td>offer received</td>\n",
       "      <td>{'offer id': '2906b810c7d4411798c6938adc9daaa5'}</td>\n",
       "      <td>0</td>\n",
       "    </tr>\n",
       "    <tr>\n",
       "      <th>3</th>\n",
       "      <td>8ec6ce2a7e7949b1bf142def7d0e0586</td>\n",
       "      <td>offer received</td>\n",
       "      <td>{'offer id': 'fafdcd668e3743c1bb461111dcafc2a4'}</td>\n",
       "      <td>0</td>\n",
       "    </tr>\n",
       "    <tr>\n",
       "      <th>4</th>\n",
       "      <td>68617ca6246f4fbc85e91a2a49552598</td>\n",
       "      <td>offer received</td>\n",
       "      <td>{'offer id': '4d5c57ea9a6940dd891ad53e9dbe8da0'}</td>\n",
       "      <td>0</td>\n",
       "    </tr>\n",
       "  </tbody>\n",
       "</table>\n",
       "</div>"
      ],
      "text/plain": [
       "                             person           event  \\\n",
       "0  78afa995795e4d85b5d9ceeca43f5fef  offer received   \n",
       "1  a03223e636434f42ac4c3df47e8bac43  offer received   \n",
       "2  e2127556f4f64592b11af22de27a7932  offer received   \n",
       "3  8ec6ce2a7e7949b1bf142def7d0e0586  offer received   \n",
       "4  68617ca6246f4fbc85e91a2a49552598  offer received   \n",
       "\n",
       "                                              value  time  \n",
       "0  {'offer id': '9b98b8c7a33c4b65b9aebfe6a799e6d9'}     0  \n",
       "1  {'offer id': '0b1e1539f2cc45b7b9fa7c272da2e1d7'}     0  \n",
       "2  {'offer id': '2906b810c7d4411798c6938adc9daaa5'}     0  \n",
       "3  {'offer id': 'fafdcd668e3743c1bb461111dcafc2a4'}     0  \n",
       "4  {'offer id': '4d5c57ea9a6940dd891ad53e9dbe8da0'}     0  "
      ]
     },
     "execution_count": 5,
     "metadata": {},
     "output_type": "execute_result"
    }
   ],
   "source": [
    "transcript = pd.read_json(\"./transcript.json\", lines=True)\n",
    "transcript.head()"
   ]
  },
  {
   "cell_type": "code",
   "execution_count": 6,
   "metadata": {},
   "outputs": [
    {
     "data": {
      "text/plain": [
       "array(['offer received', 'offer viewed', 'transaction', 'offer completed'],\n",
       "      dtype=object)"
      ]
     },
     "execution_count": 6,
     "metadata": {},
     "output_type": "execute_result"
    }
   ],
   "source": [
    "transcript.event.unique()"
   ]
  },
  {
   "cell_type": "code",
   "execution_count": 7,
   "metadata": {},
   "outputs": [
    {
     "name": "stdout",
     "output_type": "stream",
     "text": [
      "                                  person           event  \\\n",
      "0       78afa995795e4d85b5d9ceeca43f5fef  offer received   \n",
      "1       a03223e636434f42ac4c3df47e8bac43  offer received   \n",
      "2       e2127556f4f64592b11af22de27a7932  offer received   \n",
      "3       8ec6ce2a7e7949b1bf142def7d0e0586  offer received   \n",
      "4       68617ca6246f4fbc85e91a2a49552598  offer received   \n",
      "...                                  ...             ...   \n",
      "257882  d087c473b4d247ccb0abfef59ba12b0e  offer received   \n",
      "257883  cb23b66c56f64b109d673d5e56574529  offer received   \n",
      "257884  6d5f3a774f3d4714ab0c092238f3a1d7  offer received   \n",
      "257885  9dc1421481194dcd9400aec7c9ae6366  offer received   \n",
      "257886  e4052622e5ba45a8b96b59aba68cf068  offer received   \n",
      "\n",
      "                                                   value  time  \n",
      "0       {'offer id': '9b98b8c7a33c4b65b9aebfe6a799e6d9'}     0  \n",
      "1       {'offer id': '0b1e1539f2cc45b7b9fa7c272da2e1d7'}     0  \n",
      "2       {'offer id': '2906b810c7d4411798c6938adc9daaa5'}     0  \n",
      "3       {'offer id': 'fafdcd668e3743c1bb461111dcafc2a4'}     0  \n",
      "4       {'offer id': '4d5c57ea9a6940dd891ad53e9dbe8da0'}     0  \n",
      "...                                                  ...   ...  \n",
      "257882  {'offer id': 'ae264e3637204a6fb9bb56bc8210ddfd'}   576  \n",
      "257883  {'offer id': '2906b810c7d4411798c6938adc9daaa5'}   576  \n",
      "257884  {'offer id': '2298d6c36e964ae4a3e7e9706d1fb8c2'}   576  \n",
      "257885  {'offer id': 'ae264e3637204a6fb9bb56bc8210ddfd'}   576  \n",
      "257886  {'offer id': '3f207df678b143eea3cee63160fa8bed'}   576  \n",
      "\n",
      "[76277 rows x 4 columns]\n"
     ]
    }
   ],
   "source": [
    "print(transcript.loc[transcript[\"event\"] == 'offer received'])"
   ]
  },
  {
   "cell_type": "code",
   "execution_count": 8,
   "metadata": {},
   "outputs": [
    {
     "name": "stdout",
     "output_type": "stream",
     "text": [
      "                                  person         event  \\\n",
      "12650   389bc3fa690240e798340f5a15918d5c  offer viewed   \n",
      "12651   d1ede868e29245ea91818a903fec04c6  offer viewed   \n",
      "12652   102e9454054946fda62242d2e176fdce  offer viewed   \n",
      "12653   02c083884c7d45b39cc68e1314fec56c  offer viewed   \n",
      "12655   be8a5d1981a2458d90b255ddc7e0d174  offer viewed   \n",
      "...                                  ...           ...   \n",
      "306441  d56386cf344c4829bbf420d1895dca37  offer viewed   \n",
      "306450  9b51e8797290403b90d09d864dec4b94  offer viewed   \n",
      "306483  84fb57a7fe8045a8bf6236738ee73a0f  offer viewed   \n",
      "306490  abc4359eb34e4e2ca2349da2ddf771b6  offer viewed   \n",
      "306507  8dda575c2a1d44b9ac8e8b07b93d1f8e  offer viewed   \n",
      "\n",
      "                                                   value  time  \n",
      "12650   {'offer id': 'f19421c1d4aa40978ebb69ca19b0e20d'}     0  \n",
      "12651   {'offer id': '5a8bc65990b245e5a138643cd4eb9837'}     0  \n",
      "12652   {'offer id': '4d5c57ea9a6940dd891ad53e9dbe8da0'}     0  \n",
      "12653   {'offer id': 'ae264e3637204a6fb9bb56bc8210ddfd'}     0  \n",
      "12655   {'offer id': '5a8bc65990b245e5a138643cd4eb9837'}     0  \n",
      "...                                                  ...   ...  \n",
      "306441  {'offer id': '5a8bc65990b245e5a138643cd4eb9837'}   714  \n",
      "306450  {'offer id': '3f207df678b143eea3cee63160fa8bed'}   714  \n",
      "306483  {'offer id': '5a8bc65990b245e5a138643cd4eb9837'}   714  \n",
      "306490  {'offer id': '3f207df678b143eea3cee63160fa8bed'}   714  \n",
      "306507  {'offer id': '0b1e1539f2cc45b7b9fa7c272da2e1d7'}   714  \n",
      "\n",
      "[57725 rows x 4 columns]\n"
     ]
    }
   ],
   "source": [
    "print(transcript.loc[transcript[\"event\"] == 'offer viewed'])"
   ]
  },
  {
   "cell_type": "code",
   "execution_count": 9,
   "metadata": {},
   "outputs": [
    {
     "name": "stdout",
     "output_type": "stream",
     "text": [
      "                                  person        event  \\\n",
      "12654   02c083884c7d45b39cc68e1314fec56c  transaction   \n",
      "12657   9fa9ae8f57894cc9a3b8a9bbe0fc1b2f  transaction   \n",
      "12659   54890f68699049c2a04d415abc25e717  transaction   \n",
      "12670   b2f1cd155b864803ad8334cdf13c4bd2  transaction   \n",
      "12671   fe97aa22dd3e48c8b143116a8403dd52  transaction   \n",
      "...                                  ...          ...   \n",
      "306529  b3a1272bc9904337b331bf348c3e8c17  transaction   \n",
      "306530  68213b08d99a4ae1b0dcb72aebd9aa35  transaction   \n",
      "306531  a00058cf10334a308c68e7631c529907  transaction   \n",
      "306532  76ddbd6576844afe811f1a3c0fbb5bec  transaction   \n",
      "306533  c02b10e8752c4d8e9b73f918558531f7  transaction   \n",
      "\n",
      "                                 value  time  \n",
      "12654   {'amount': 0.8300000000000001}     0  \n",
      "12657                {'amount': 34.56}     0  \n",
      "12659                {'amount': 13.23}     0  \n",
      "12670                {'amount': 19.51}     0  \n",
      "12671                {'amount': 18.97}     0  \n",
      "...                                ...   ...  \n",
      "306529  {'amount': 1.5899999999999999}   714  \n",
      "306530                {'amount': 9.53}   714  \n",
      "306531                {'amount': 3.61}   714  \n",
      "306532  {'amount': 3.5300000000000002}   714  \n",
      "306533                {'amount': 4.05}   714  \n",
      "\n",
      "[138953 rows x 4 columns]\n"
     ]
    }
   ],
   "source": [
    "print(transcript.loc[transcript[\"event\"] == 'transaction'])"
   ]
  },
  {
   "cell_type": "code",
   "execution_count": 10,
   "metadata": {
    "scrolled": true
   },
   "outputs": [
    {
     "name": "stdout",
     "output_type": "stream",
     "text": [
      "                                  person            event  \\\n",
      "12658   9fa9ae8f57894cc9a3b8a9bbe0fc1b2f  offer completed   \n",
      "12672   fe97aa22dd3e48c8b143116a8403dd52  offer completed   \n",
      "12679   629fc02d56414d91bca360decdfa9288  offer completed   \n",
      "12692   676506bad68e4161b9bbaffeb039626b  offer completed   \n",
      "12697   8f7dd3b2afe14c078eb4f6e6fe4ba97d  offer completed   \n",
      "...                                  ...              ...   \n",
      "306475  0c027f5f34dd4b9eba0a25785c611273  offer completed   \n",
      "306497  a6f84f4e976f44508c358cc9aba6d2b3  offer completed   \n",
      "306506  b895c57e8cd047a8872ce02aa54759d6  offer completed   \n",
      "306509  8431c16f8e1d440880db371a68f82dd0  offer completed   \n",
      "306527  24f56b5e1849462093931b164eb803b5  offer completed   \n",
      "\n",
      "                                                    value  time  \n",
      "12658   {'offer_id': '2906b810c7d4411798c6938adc9daaa5...     0  \n",
      "12672   {'offer_id': 'fafdcd668e3743c1bb461111dcafc2a4...     0  \n",
      "12679   {'offer_id': '9b98b8c7a33c4b65b9aebfe6a799e6d9...     0  \n",
      "12692   {'offer_id': 'ae264e3637204a6fb9bb56bc8210ddfd...     0  \n",
      "12697   {'offer_id': '4d5c57ea9a6940dd891ad53e9dbe8da0...     0  \n",
      "...                                                   ...   ...  \n",
      "306475  {'offer_id': '2298d6c36e964ae4a3e7e9706d1fb8c2...   714  \n",
      "306497  {'offer_id': '2298d6c36e964ae4a3e7e9706d1fb8c2...   714  \n",
      "306506  {'offer_id': 'fafdcd668e3743c1bb461111dcafc2a4...   714  \n",
      "306509  {'offer_id': 'fafdcd668e3743c1bb461111dcafc2a4...   714  \n",
      "306527  {'offer_id': 'fafdcd668e3743c1bb461111dcafc2a4...   714  \n",
      "\n",
      "[33579 rows x 4 columns]\n"
     ]
    }
   ],
   "source": [
    "print(transcript.loc[transcript[\"event\"] == 'offer completed'])"
   ]
  },
  {
   "cell_type": "code",
   "execution_count": 30,
   "metadata": {
    "scrolled": false
   },
   "outputs": [
    {
     "name": "stdout",
     "output_type": "stream",
     "text": [
      "Processin 1 out of 306534...\n",
      "Processin 100001 out of 306534...\n",
      "Processin 200001 out of 306534...\n",
      "Processin 300001 out of 306534...\n"
     ]
    }
   ],
   "source": [
    "res = []\n",
    "for i in range(len(transcript)):\n",
    "    if i%100000 ==0:\n",
    "        print(\"Processin {} out of {}...\".format(i+1, len(transcript)))\n",
    "    p_id = transcript.loc[i, \"person\"]\n",
    "    temp = profile.loc[profile[\"id\"] == p_id]\n",
    "#     print(temp)\n",
    "    for t in range(len(temp)):\n",
    "        gender = temp.iloc[t,0]\n",
    "        age = temp.iloc[t,1]\n",
    "        became_member_on = temp.iloc[t,3]\n",
    "        income = temp.iloc[t,4]\n",
    "        event = transcript.loc[i,\"event\"]\n",
    "        if event in ['offer received', 'offer viewed']:\n",
    "            try:\n",
    "                o_id = transcript.loc[i,\"value\"][\"offer_id\"]\n",
    "            except:\n",
    "                o_id = transcript.loc[i,\"value\"][\"offer id\"]\n",
    "            temp2 = portfolio.loc[portfolio[\"id\"] == o_id]\n",
    "#             print(temp2)\n",
    "            for t2 in range(len(temp2)):\n",
    "                reward = temp2.iloc[t2,0]\n",
    "                channels = temp2.iloc[t2,1]\n",
    "                difficulty = temp2.iloc[t2,2]\n",
    "                duration = temp2.iloc[t2,3]\n",
    "                offer_type = temp2.iloc[t2,4]\n",
    "                amount = 0\n",
    "                oreward = 0\n",
    "                res.append([gender, age,p_id, became_member_on,\n",
    "                           income, event, reward, channels, difficulty, duration,\n",
    "                           offer_type,o_id, amount,oreward, transcript.loc[i,\"time\"]])\n",
    "        elif event == \"offer completed\":\n",
    "            oreward = transcript.loc[i,\"value\"][\"reward\"]\n",
    "            reward = None\n",
    "            o_id = None\n",
    "            channels = None\n",
    "            difficulty = None\n",
    "            duration = None\n",
    "            offer_type = None\n",
    "            oreward = 0\n",
    "            amount = 0\n",
    "            res.append([gender, age,p_id, became_member_on,\n",
    "                       income, event, reward, channels, difficulty, duration,\n",
    "                       offer_type,o_id ,amount,oreward ,transcript.loc[i,\"time\"]])\n",
    "        else:\n",
    "                reward = None\n",
    "                channels = None\n",
    "                difficulty = None\n",
    "                duration = None\n",
    "                o_id = None\n",
    "                offer_type = None\n",
    "                oreward = 0\n",
    "                amount = transcript.loc[i,\"value\"][\"amount\"]\n",
    "                res.append([gender, age,p_id, became_member_on,\n",
    "                           income, event, reward, channels, difficulty, duration,\n",
    "                           offer_type,o_id, amount,oreward ,transcript.loc[i,\"time\"]])                \n",
    "        \n",
    "            \n"
   ]
  },
  {
   "cell_type": "code",
   "execution_count": 31,
   "metadata": {},
   "outputs": [],
   "source": [
    "data = [[\"gender\", \"age\", \"p_id\", \"became_member_on\", \"income\", \n",
    "        \"event\", \"reward\", \"channels\", \"difficulty\", \"duration\", \"offer_type\",\n",
    "        \"o_id\", \"amount\",\"o_reward\", \"time\"]] + res"
   ]
  },
  {
   "cell_type": "code",
   "execution_count": 32,
   "metadata": {},
   "outputs": [],
   "source": [
    "import csv\n",
    "current = !pwd\n",
    "writer = csv.writer(open(\"./data.csv\", \"w+\"))\n",
    "writer.writerows(data)\n"
   ]
  },
  {
   "cell_type": "code",
   "execution_count": 50,
   "metadata": {},
   "outputs": [
    {
     "data": {
      "text/html": [
       "<div>\n",
       "<style scoped>\n",
       "    .dataframe tbody tr th:only-of-type {\n",
       "        vertical-align: middle;\n",
       "    }\n",
       "\n",
       "    .dataframe tbody tr th {\n",
       "        vertical-align: top;\n",
       "    }\n",
       "\n",
       "    .dataframe thead th {\n",
       "        text-align: right;\n",
       "    }\n",
       "</style>\n",
       "<table border=\"1\" class=\"dataframe\">\n",
       "  <thead>\n",
       "    <tr style=\"text-align: right;\">\n",
       "      <th></th>\n",
       "      <th>gender</th>\n",
       "      <th>age</th>\n",
       "      <th>p_id</th>\n",
       "      <th>became_member_on</th>\n",
       "      <th>income</th>\n",
       "      <th>event</th>\n",
       "      <th>reward</th>\n",
       "      <th>channels</th>\n",
       "      <th>difficulty</th>\n",
       "      <th>duration</th>\n",
       "      <th>offer_type</th>\n",
       "      <th>o_id</th>\n",
       "      <th>amount</th>\n",
       "      <th>o_reward</th>\n",
       "      <th>time</th>\n",
       "    </tr>\n",
       "  </thead>\n",
       "  <tbody>\n",
       "    <tr>\n",
       "      <th>0</th>\n",
       "      <td>F</td>\n",
       "      <td>75</td>\n",
       "      <td>78afa995795e4d85b5d9ceeca43f5fef</td>\n",
       "      <td>20170509</td>\n",
       "      <td>100000.0</td>\n",
       "      <td>offer received</td>\n",
       "      <td>5.0</td>\n",
       "      <td>['web', 'email', 'mobile']</td>\n",
       "      <td>5.0</td>\n",
       "      <td>7.0</td>\n",
       "      <td>bogo</td>\n",
       "      <td>9b98b8c7a33c4b65b9aebfe6a799e6d9</td>\n",
       "      <td>0.0</td>\n",
       "      <td>0</td>\n",
       "      <td>0</td>\n",
       "    </tr>\n",
       "    <tr>\n",
       "      <th>1</th>\n",
       "      <td>NaN</td>\n",
       "      <td>118</td>\n",
       "      <td>a03223e636434f42ac4c3df47e8bac43</td>\n",
       "      <td>20170804</td>\n",
       "      <td>NaN</td>\n",
       "      <td>offer received</td>\n",
       "      <td>5.0</td>\n",
       "      <td>['web', 'email']</td>\n",
       "      <td>20.0</td>\n",
       "      <td>10.0</td>\n",
       "      <td>discount</td>\n",
       "      <td>0b1e1539f2cc45b7b9fa7c272da2e1d7</td>\n",
       "      <td>0.0</td>\n",
       "      <td>0</td>\n",
       "      <td>0</td>\n",
       "    </tr>\n",
       "    <tr>\n",
       "      <th>2</th>\n",
       "      <td>M</td>\n",
       "      <td>68</td>\n",
       "      <td>e2127556f4f64592b11af22de27a7932</td>\n",
       "      <td>20180426</td>\n",
       "      <td>70000.0</td>\n",
       "      <td>offer received</td>\n",
       "      <td>2.0</td>\n",
       "      <td>['web', 'email', 'mobile']</td>\n",
       "      <td>10.0</td>\n",
       "      <td>7.0</td>\n",
       "      <td>discount</td>\n",
       "      <td>2906b810c7d4411798c6938adc9daaa5</td>\n",
       "      <td>0.0</td>\n",
       "      <td>0</td>\n",
       "      <td>0</td>\n",
       "    </tr>\n",
       "    <tr>\n",
       "      <th>3</th>\n",
       "      <td>NaN</td>\n",
       "      <td>118</td>\n",
       "      <td>8ec6ce2a7e7949b1bf142def7d0e0586</td>\n",
       "      <td>20170925</td>\n",
       "      <td>NaN</td>\n",
       "      <td>offer received</td>\n",
       "      <td>2.0</td>\n",
       "      <td>['web', 'email', 'mobile', 'social']</td>\n",
       "      <td>10.0</td>\n",
       "      <td>10.0</td>\n",
       "      <td>discount</td>\n",
       "      <td>fafdcd668e3743c1bb461111dcafc2a4</td>\n",
       "      <td>0.0</td>\n",
       "      <td>0</td>\n",
       "      <td>0</td>\n",
       "    </tr>\n",
       "    <tr>\n",
       "      <th>4</th>\n",
       "      <td>NaN</td>\n",
       "      <td>118</td>\n",
       "      <td>68617ca6246f4fbc85e91a2a49552598</td>\n",
       "      <td>20171002</td>\n",
       "      <td>NaN</td>\n",
       "      <td>offer received</td>\n",
       "      <td>10.0</td>\n",
       "      <td>['web', 'email', 'mobile', 'social']</td>\n",
       "      <td>10.0</td>\n",
       "      <td>5.0</td>\n",
       "      <td>bogo</td>\n",
       "      <td>4d5c57ea9a6940dd891ad53e9dbe8da0</td>\n",
       "      <td>0.0</td>\n",
       "      <td>0</td>\n",
       "      <td>0</td>\n",
       "    </tr>\n",
       "  </tbody>\n",
       "</table>\n",
       "</div>"
      ],
      "text/plain": [
       "  gender  age                              p_id  became_member_on    income  \\\n",
       "0      F   75  78afa995795e4d85b5d9ceeca43f5fef          20170509  100000.0   \n",
       "1    NaN  118  a03223e636434f42ac4c3df47e8bac43          20170804       NaN   \n",
       "2      M   68  e2127556f4f64592b11af22de27a7932          20180426   70000.0   \n",
       "3    NaN  118  8ec6ce2a7e7949b1bf142def7d0e0586          20170925       NaN   \n",
       "4    NaN  118  68617ca6246f4fbc85e91a2a49552598          20171002       NaN   \n",
       "\n",
       "            event  reward                              channels  difficulty  \\\n",
       "0  offer received     5.0            ['web', 'email', 'mobile']         5.0   \n",
       "1  offer received     5.0                      ['web', 'email']        20.0   \n",
       "2  offer received     2.0            ['web', 'email', 'mobile']        10.0   \n",
       "3  offer received     2.0  ['web', 'email', 'mobile', 'social']        10.0   \n",
       "4  offer received    10.0  ['web', 'email', 'mobile', 'social']        10.0   \n",
       "\n",
       "   duration offer_type                              o_id  amount  o_reward  \\\n",
       "0       7.0       bogo  9b98b8c7a33c4b65b9aebfe6a799e6d9     0.0         0   \n",
       "1      10.0   discount  0b1e1539f2cc45b7b9fa7c272da2e1d7     0.0         0   \n",
       "2       7.0   discount  2906b810c7d4411798c6938adc9daaa5     0.0         0   \n",
       "3      10.0   discount  fafdcd668e3743c1bb461111dcafc2a4     0.0         0   \n",
       "4       5.0       bogo  4d5c57ea9a6940dd891ad53e9dbe8da0     0.0         0   \n",
       "\n",
       "   time  \n",
       "0     0  \n",
       "1     0  \n",
       "2     0  \n",
       "3     0  \n",
       "4     0  "
      ]
     },
     "execution_count": 50,
     "metadata": {},
     "output_type": "execute_result"
    }
   ],
   "source": [
    "data = pd.read_csv(\"./data.csv\")\n",
    "# data['income'] = data['income'].div(100).round(2)\n",
    "# data['adv'] = data['reward'] - data['difficulty']\n",
    "data.head()"
   ]
  },
  {
   "cell_type": "code",
   "execution_count": null,
   "metadata": {},
   "outputs": [],
   "source": [
    "# sample = data.loc[data[\"age\"] > 100]\n",
    "# sample"
   ]
  },
  {
   "cell_type": "code",
   "execution_count": null,
   "metadata": {},
   "outputs": [],
   "source": [
    "# data.describe()"
   ]
  },
  {
   "cell_type": "code",
   "execution_count": null,
   "metadata": {},
   "outputs": [],
   "source": [
    "# import seaborn as sns\n",
    "# sns.set()\n",
    "# # dots = sns.load_dataset(\"data\")\n",
    "# sns.relplot(x=\"age\", y=\"income\", data=data, kind=\"line\")"
   ]
  },
  {
   "cell_type": "code",
   "execution_count": null,
   "metadata": {},
   "outputs": [],
   "source": [
    "# sns.relplot(x=\"reward\", y=\"difficulty\", data=data, kind=\"line\")"
   ]
  },
  {
   "cell_type": "code",
   "execution_count": null,
   "metadata": {},
   "outputs": [],
   "source": [
    "# sns.relplot(x=\"income\", y=\"amount\", data=data, kind=\"line\")"
   ]
  },
  {
   "cell_type": "code",
   "execution_count": null,
   "metadata": {},
   "outputs": [],
   "source": [
    "# sns.relplot(x=\"reward\", y=\"duration\", data=data, kind=\"line\")"
   ]
  },
  {
   "cell_type": "code",
   "execution_count": null,
   "metadata": {},
   "outputs": [],
   "source": [
    "# sns.relplot(x=\"difficulty\", y=\"reward\", data=data, kind=\"line\")"
   ]
  },
  {
   "cell_type": "code",
   "execution_count": null,
   "metadata": {},
   "outputs": [],
   "source": [
    "# len(data.p_id.unique())"
   ]
  },
  {
   "cell_type": "code",
   "execution_count": null,
   "metadata": {},
   "outputs": [],
   "source": [
    "# data.dropna()\n",
    "# len(data)"
   ]
  },
  {
   "cell_type": "code",
   "execution_count": null,
   "metadata": {},
   "outputs": [],
   "source": [
    "# data = data.dropna(subset=[\"offer_type\"])\n"
   ]
  },
  {
   "cell_type": "code",
   "execution_count": null,
   "metadata": {},
   "outputs": [],
   "source": [
    "# data.gender.unique()"
   ]
  },
  {
   "cell_type": "code",
   "execution_count": null,
   "metadata": {},
   "outputs": [],
   "source": [
    "# values = {'gender':'O', 'age': data[\"age\"].median(), 'income': 0, 'reward': 0, \"difficulty\":0}\n",
    "# data = data.fillna(value=values)\n"
   ]
  },
  {
   "cell_type": "code",
   "execution_count": null,
   "metadata": {},
   "outputs": [],
   "source": [
    "# from sklearn.preprocessing import OneHotEncoder\n",
    "# enc = OneHotEncoder(handle_unknown='ignore')\n"
   ]
  },
  {
   "cell_type": "code",
   "execution_count": null,
   "metadata": {},
   "outputs": [],
   "source": [
    "# dummy = data[[\"gender\", \"age\", \"income\", \"reward\", \"difficulty\",\"offer_type\"]]\n",
    "X = data[[\"gender\", \"age\", \"income\", \"reward\", \"difficulty\"]]\n",
    "y = data[[\"offer_type\"]]"
   ]
  },
  {
   "cell_type": "code",
   "execution_count": null,
   "metadata": {},
   "outputs": [],
   "source": [
    "# dummy = enc.fit_transform(dummy).toarray()"
   ]
  },
  {
   "cell_type": "code",
   "execution_count": null,
   "metadata": {},
   "outputs": [],
   "source": [
    "# dummy"
   ]
  },
  {
   "cell_type": "code",
   "execution_count": null,
   "metadata": {},
   "outputs": [],
   "source": [
    "# y = dummy[:,-1]\n",
    "# X = dummy[:,:-1]"
   ]
  },
  {
   "cell_type": "code",
   "execution_count": null,
   "metadata": {},
   "outputs": [],
   "source": [
    "# y"
   ]
  },
  {
   "cell_type": "code",
   "execution_count": null,
   "metadata": {},
   "outputs": [],
   "source": [
    "# len(X)"
   ]
  },
  {
   "cell_type": "code",
   "execution_count": null,
   "metadata": {},
   "outputs": [],
   "source": [
    "# len(y)"
   ]
  },
  {
   "cell_type": "code",
   "execution_count": null,
   "metadata": {},
   "outputs": [],
   "source": [
    "# X.head()"
   ]
  },
  {
   "cell_type": "code",
   "execution_count": null,
   "metadata": {},
   "outputs": [],
   "source": [
    "# y.head()"
   ]
  },
  {
   "cell_type": "code",
   "execution_count": null,
   "metadata": {},
   "outputs": [],
   "source": [
    "# from sklearn.preprocessing import OneHotEncoder\n",
    "# enc = OneHotEncoder(handle_unknown='ignore')\n",
    "# # x =X_enc.fit_transform(X)\n",
    "# # y_enc = OneHotEncoder(handle_unknown='ignore')\n",
    "# # y = y_enc.fit_transform(y)"
   ]
  },
  {
   "cell_type": "code",
   "execution_count": null,
   "metadata": {},
   "outputs": [],
   "source": [
    "# from sklearn.preprocessing import LabelEncoder\n",
    "# le = LabelEncoder()\n",
    "# X[\"gender\"] = le.fit_transform(X[\"gender\"])\n",
    "# y[\"offer_type\"] = le.fit_transform(y[\"offer_type\"])"
   ]
  },
  {
   "cell_type": "code",
   "execution_count": null,
   "metadata": {},
   "outputs": [],
   "source": [
    "# X = enc.fit_transform(X,y)"
   ]
  },
  {
   "cell_type": "code",
   "execution_count": null,
   "metadata": {},
   "outputs": [],
   "source": [
    "# y.head()"
   ]
  },
  {
   "cell_type": "code",
   "execution_count": null,
   "metadata": {},
   "outputs": [],
   "source": [
    "# from sklearn.model_selection import train_test_split\n",
    "# X_train , X_test, y_train, y_test =train_test_split(X, y, test_size=0.3, random_state=42)\n"
   ]
  },
  {
   "cell_type": "code",
   "execution_count": null,
   "metadata": {},
   "outputs": [],
   "source": [
    "# y.offer_type.unique()"
   ]
  },
  {
   "cell_type": "code",
   "execution_count": null,
   "metadata": {},
   "outputs": [],
   "source": [
    "# from sklearn.svm import LinearSVC\n",
    "# clf = LinearSVC(random_state=0, tol=1e-5)\n",
    "# clf.fit(X_train, y_train)"
   ]
  },
  {
   "cell_type": "code",
   "execution_count": null,
   "metadata": {},
   "outputs": [],
   "source": [
    "# pred = clf.predict(X_test)"
   ]
  },
  {
   "cell_type": "code",
   "execution_count": null,
   "metadata": {},
   "outputs": [],
   "source": [
    "# len(y_test)"
   ]
  },
  {
   "cell_type": "code",
   "execution_count": null,
   "metadata": {},
   "outputs": [],
   "source": [
    "# from sklearn.metrics import accuracy_score\n",
    "# accuracy_score(pred, y_test)"
   ]
  },
  {
   "cell_type": "code",
   "execution_count": null,
   "metadata": {},
   "outputs": [],
   "source": [
    "# clf.predict([X_test[0]])"
   ]
  },
  {
   "cell_type": "markdown",
   "metadata": {},
   "source": [
    "# Data Analysis\n"
   ]
  },
  {
   "cell_type": "code",
   "execution_count": 24,
   "metadata": {},
   "outputs": [],
   "source": [
    "u_person = data.p_id.unique()"
   ]
  },
  {
   "cell_type": "code",
   "execution_count": 25,
   "metadata": {},
   "outputs": [
    {
     "name": "stdout",
     "output_type": "stream",
     "text": [
      "       gender  age                              p_id  became_member_on  \\\n",
      "0           F   75  78afa995795e4d85b5d9ceeca43f5fef          20170509   \n",
      "15561       F   75  78afa995795e4d85b5d9ceeca43f5fef          20170509   \n",
      "47582       F   75  78afa995795e4d85b5d9ceeca43f5fef          20170509   \n",
      "47583       F   75  78afa995795e4d85b5d9ceeca43f5fef          20170509   \n",
      "49502       F   75  78afa995795e4d85b5d9ceeca43f5fef          20170509   \n",
      "53176       F   75  78afa995795e4d85b5d9ceeca43f5fef          20170509   \n",
      "85291       F   75  78afa995795e4d85b5d9ceeca43f5fef          20170509   \n",
      "87134       F   75  78afa995795e4d85b5d9ceeca43f5fef          20170509   \n",
      "92104       F   75  78afa995795e4d85b5d9ceeca43f5fef          20170509   \n",
      "141566      F   75  78afa995795e4d85b5d9ceeca43f5fef          20170509   \n",
      "150598      F   75  78afa995795e4d85b5d9ceeca43f5fef          20170509   \n",
      "163375      F   75  78afa995795e4d85b5d9ceeca43f5fef          20170509   \n",
      "201572      F   75  78afa995795e4d85b5d9ceeca43f5fef          20170509   \n",
      "218393      F   75  78afa995795e4d85b5d9ceeca43f5fef          20170509   \n",
      "218394      F   75  78afa995795e4d85b5d9ceeca43f5fef          20170509   \n",
      "218395      F   75  78afa995795e4d85b5d9ceeca43f5fef          20170509   \n",
      "230412      F   75  78afa995795e4d85b5d9ceeca43f5fef          20170509   \n",
      "262138      F   75  78afa995795e4d85b5d9ceeca43f5fef          20170509   \n",
      "\n",
      "          income            event  reward  \\\n",
      "0       100000.0   offer received     5.0   \n",
      "15561   100000.0     offer viewed     5.0   \n",
      "47582   100000.0      transaction     NaN   \n",
      "47583   100000.0  offer completed     NaN   \n",
      "49502   100000.0      transaction     NaN   \n",
      "53176   100000.0   offer received     0.0   \n",
      "85291   100000.0     offer viewed     0.0   \n",
      "87134   100000.0      transaction     NaN   \n",
      "92104   100000.0      transaction     NaN   \n",
      "141566  100000.0      transaction     NaN   \n",
      "150598  100000.0   offer received    10.0   \n",
      "163375  100000.0     offer viewed    10.0   \n",
      "201572  100000.0   offer received     5.0   \n",
      "218393  100000.0      transaction     NaN   \n",
      "218394  100000.0  offer completed     NaN   \n",
      "218395  100000.0  offer completed     NaN   \n",
      "230412  100000.0      transaction     NaN   \n",
      "262138  100000.0     offer viewed     5.0   \n",
      "\n",
      "                                    channels  difficulty  duration  \\\n",
      "0                 ['web', 'email', 'mobile']         5.0       7.0   \n",
      "15561             ['web', 'email', 'mobile']         5.0       7.0   \n",
      "47582                                    NaN         NaN       NaN   \n",
      "47583                                    NaN         NaN       NaN   \n",
      "49502                                    NaN         NaN       NaN   \n",
      "53176          ['email', 'mobile', 'social']         0.0       3.0   \n",
      "85291          ['email', 'mobile', 'social']         0.0       3.0   \n",
      "87134                                    NaN         NaN       NaN   \n",
      "92104                                    NaN         NaN       NaN   \n",
      "141566                                   NaN         NaN       NaN   \n",
      "150598         ['email', 'mobile', 'social']        10.0       7.0   \n",
      "163375         ['email', 'mobile', 'social']        10.0       7.0   \n",
      "201572  ['web', 'email', 'mobile', 'social']         5.0       5.0   \n",
      "218393                                   NaN         NaN       NaN   \n",
      "218394                                   NaN         NaN       NaN   \n",
      "218395                                   NaN         NaN       NaN   \n",
      "230412                                   NaN         NaN       NaN   \n",
      "262138  ['web', 'email', 'mobile', 'social']         5.0       5.0   \n",
      "\n",
      "           offer_type   o_id  amount  o_reward  time  \n",
      "0                bogo   0.00       0         0   NaN  \n",
      "15561            bogo   0.00       0         6   NaN  \n",
      "47582             NaN  19.89       0       132   NaN  \n",
      "47583             NaN   0.00       0       132   NaN  \n",
      "49502             NaN  17.78       0       144   NaN  \n",
      "53176   informational   0.00       0       168   NaN  \n",
      "85291   informational   0.00       0       216   NaN  \n",
      "87134             NaN  19.67       0       222   NaN  \n",
      "92104             NaN  29.72       0       240   NaN  \n",
      "141566            NaN  23.93       0       378   NaN  \n",
      "150598           bogo   0.00       0       408   NaN  \n",
      "163375           bogo   0.00       0       408   NaN  \n",
      "201572           bogo   0.00       0       504   NaN  \n",
      "218393            NaN  21.72       0       510   NaN  \n",
      "218394            NaN   0.00       0       510   NaN  \n",
      "218395            NaN   0.00       0       510   NaN  \n",
      "230412            NaN  26.56       0       534   NaN  \n",
      "262138           bogo   0.00       0       582   NaN  \n"
     ]
    }
   ],
   "source": [
    "for u in u_person:\n",
    "    print (data.loc[data[\"p_id\"] == u])\n",
    "    break"
   ]
  },
  {
   "cell_type": "markdown",
   "metadata": {},
   "source": [
    "# Data Cleaning"
   ]
  },
  {
   "cell_type": "markdown",
   "metadata": {},
   "source": [
    "## Gender = O"
   ]
  },
  {
   "cell_type": "code",
   "execution_count": 210,
   "metadata": {},
   "outputs": [
    {
     "data": {
      "text/html": [
       "<div>\n",
       "<style scoped>\n",
       "    .dataframe tbody tr th:only-of-type {\n",
       "        vertical-align: middle;\n",
       "    }\n",
       "\n",
       "    .dataframe tbody tr th {\n",
       "        vertical-align: top;\n",
       "    }\n",
       "\n",
       "    .dataframe thead th {\n",
       "        text-align: right;\n",
       "    }\n",
       "</style>\n",
       "<table border=\"1\" class=\"dataframe\">\n",
       "  <thead>\n",
       "    <tr style=\"text-align: right;\">\n",
       "      <th></th>\n",
       "      <th>gender</th>\n",
       "      <th>age</th>\n",
       "      <th>p_id</th>\n",
       "      <th>became_member_on</th>\n",
       "      <th>income</th>\n",
       "      <th>event</th>\n",
       "      <th>reward</th>\n",
       "      <th>channels</th>\n",
       "      <th>difficulty</th>\n",
       "      <th>duration</th>\n",
       "      <th>offer_type</th>\n",
       "      <th>o_id</th>\n",
       "      <th>amount</th>\n",
       "      <th>o_reward</th>\n",
       "      <th>time</th>\n",
       "    </tr>\n",
       "  </thead>\n",
       "  <tbody>\n",
       "    <tr>\n",
       "      <th>0</th>\n",
       "      <td>F</td>\n",
       "      <td>75</td>\n",
       "      <td>78afa995795e4d85b5d9ceeca43f5fef</td>\n",
       "      <td>20170509</td>\n",
       "      <td>100000.0</td>\n",
       "      <td>offer received</td>\n",
       "      <td>5.0</td>\n",
       "      <td>['web', 'email', 'mobile']</td>\n",
       "      <td>5.0</td>\n",
       "      <td>7.0</td>\n",
       "      <td>bogo</td>\n",
       "      <td>9b98b8c7a33c4b65b9aebfe6a799e6d9</td>\n",
       "      <td>0.0</td>\n",
       "      <td>0</td>\n",
       "      <td>0</td>\n",
       "    </tr>\n",
       "    <tr>\n",
       "      <th>1</th>\n",
       "      <td>NaN</td>\n",
       "      <td>118</td>\n",
       "      <td>a03223e636434f42ac4c3df47e8bac43</td>\n",
       "      <td>20170804</td>\n",
       "      <td>NaN</td>\n",
       "      <td>offer received</td>\n",
       "      <td>5.0</td>\n",
       "      <td>['web', 'email']</td>\n",
       "      <td>20.0</td>\n",
       "      <td>10.0</td>\n",
       "      <td>discount</td>\n",
       "      <td>0b1e1539f2cc45b7b9fa7c272da2e1d7</td>\n",
       "      <td>0.0</td>\n",
       "      <td>0</td>\n",
       "      <td>0</td>\n",
       "    </tr>\n",
       "    <tr>\n",
       "      <th>2</th>\n",
       "      <td>M</td>\n",
       "      <td>68</td>\n",
       "      <td>e2127556f4f64592b11af22de27a7932</td>\n",
       "      <td>20180426</td>\n",
       "      <td>70000.0</td>\n",
       "      <td>offer received</td>\n",
       "      <td>2.0</td>\n",
       "      <td>['web', 'email', 'mobile']</td>\n",
       "      <td>10.0</td>\n",
       "      <td>7.0</td>\n",
       "      <td>discount</td>\n",
       "      <td>2906b810c7d4411798c6938adc9daaa5</td>\n",
       "      <td>0.0</td>\n",
       "      <td>0</td>\n",
       "      <td>0</td>\n",
       "    </tr>\n",
       "    <tr>\n",
       "      <th>3</th>\n",
       "      <td>NaN</td>\n",
       "      <td>118</td>\n",
       "      <td>8ec6ce2a7e7949b1bf142def7d0e0586</td>\n",
       "      <td>20170925</td>\n",
       "      <td>NaN</td>\n",
       "      <td>offer received</td>\n",
       "      <td>2.0</td>\n",
       "      <td>['web', 'email', 'mobile', 'social']</td>\n",
       "      <td>10.0</td>\n",
       "      <td>10.0</td>\n",
       "      <td>discount</td>\n",
       "      <td>fafdcd668e3743c1bb461111dcafc2a4</td>\n",
       "      <td>0.0</td>\n",
       "      <td>0</td>\n",
       "      <td>0</td>\n",
       "    </tr>\n",
       "    <tr>\n",
       "      <th>4</th>\n",
       "      <td>NaN</td>\n",
       "      <td>118</td>\n",
       "      <td>68617ca6246f4fbc85e91a2a49552598</td>\n",
       "      <td>20171002</td>\n",
       "      <td>NaN</td>\n",
       "      <td>offer received</td>\n",
       "      <td>10.0</td>\n",
       "      <td>['web', 'email', 'mobile', 'social']</td>\n",
       "      <td>10.0</td>\n",
       "      <td>5.0</td>\n",
       "      <td>bogo</td>\n",
       "      <td>4d5c57ea9a6940dd891ad53e9dbe8da0</td>\n",
       "      <td>0.0</td>\n",
       "      <td>0</td>\n",
       "      <td>0</td>\n",
       "    </tr>\n",
       "  </tbody>\n",
       "</table>\n",
       "</div>"
      ],
      "text/plain": [
       "  gender  age                              p_id  became_member_on    income  \\\n",
       "0      F   75  78afa995795e4d85b5d9ceeca43f5fef          20170509  100000.0   \n",
       "1    NaN  118  a03223e636434f42ac4c3df47e8bac43          20170804       NaN   \n",
       "2      M   68  e2127556f4f64592b11af22de27a7932          20180426   70000.0   \n",
       "3    NaN  118  8ec6ce2a7e7949b1bf142def7d0e0586          20170925       NaN   \n",
       "4    NaN  118  68617ca6246f4fbc85e91a2a49552598          20171002       NaN   \n",
       "\n",
       "            event  reward                              channels  difficulty  \\\n",
       "0  offer received     5.0            ['web', 'email', 'mobile']         5.0   \n",
       "1  offer received     5.0                      ['web', 'email']        20.0   \n",
       "2  offer received     2.0            ['web', 'email', 'mobile']        10.0   \n",
       "3  offer received     2.0  ['web', 'email', 'mobile', 'social']        10.0   \n",
       "4  offer received    10.0  ['web', 'email', 'mobile', 'social']        10.0   \n",
       "\n",
       "   duration offer_type                              o_id  amount  o_reward  \\\n",
       "0       7.0       bogo  9b98b8c7a33c4b65b9aebfe6a799e6d9     0.0         0   \n",
       "1      10.0   discount  0b1e1539f2cc45b7b9fa7c272da2e1d7     0.0         0   \n",
       "2       7.0   discount  2906b810c7d4411798c6938adc9daaa5     0.0         0   \n",
       "3      10.0   discount  fafdcd668e3743c1bb461111dcafc2a4     0.0         0   \n",
       "4       5.0       bogo  4d5c57ea9a6940dd891ad53e9dbe8da0     0.0         0   \n",
       "\n",
       "   time  \n",
       "0     0  \n",
       "1     0  \n",
       "2     0  \n",
       "3     0  \n",
       "4     0  "
      ]
     },
     "execution_count": 210,
     "metadata": {},
     "output_type": "execute_result"
    }
   ],
   "source": [
    "data = pd.read_csv(\"./data.csv\")\n",
    "# data['income'] = data['income'].div(100).round(2)\n",
    "# data['adv'] = data['reward'] - data['difficulty']\n",
    "data.head()"
   ]
  },
  {
   "cell_type": "code",
   "execution_count": 211,
   "metadata": {},
   "outputs": [],
   "source": [
    "data = data.dropna(subset=[\"offer_type\"])\n",
    "data = data.reset_index()"
   ]
  },
  {
   "cell_type": "code",
   "execution_count": 212,
   "metadata": {},
   "outputs": [],
   "source": [
    "value = {\"gender\": \"O\", \"income\":data[\"income\"].median()}\n",
    "data = data.fillna(value=value)"
   ]
  },
  {
   "cell_type": "code",
   "execution_count": 213,
   "metadata": {},
   "outputs": [],
   "source": [
    "data.pop(\"p_id\")\n",
    "data.pop(\"o_id\")\n",
    "y = data.pop(\"event\")"
   ]
  },
  {
   "cell_type": "code",
   "execution_count": 214,
   "metadata": {},
   "outputs": [
    {
     "data": {
      "text/plain": [
       "0    offer received\n",
       "1    offer received\n",
       "2    offer received\n",
       "3    offer received\n",
       "4    offer received\n",
       "Name: event, dtype: object"
      ]
     },
     "execution_count": 214,
     "metadata": {},
     "output_type": "execute_result"
    }
   ],
   "source": [
    "y.head()"
   ]
  },
  {
   "cell_type": "code",
   "execution_count": 215,
   "metadata": {},
   "outputs": [
    {
     "data": {
      "text/html": [
       "<div>\n",
       "<style scoped>\n",
       "    .dataframe tbody tr th:only-of-type {\n",
       "        vertical-align: middle;\n",
       "    }\n",
       "\n",
       "    .dataframe tbody tr th {\n",
       "        vertical-align: top;\n",
       "    }\n",
       "\n",
       "    .dataframe thead th {\n",
       "        text-align: right;\n",
       "    }\n",
       "</style>\n",
       "<table border=\"1\" class=\"dataframe\">\n",
       "  <thead>\n",
       "    <tr style=\"text-align: right;\">\n",
       "      <th></th>\n",
       "      <th>index</th>\n",
       "      <th>gender</th>\n",
       "      <th>age</th>\n",
       "      <th>became_member_on</th>\n",
       "      <th>income</th>\n",
       "      <th>reward</th>\n",
       "      <th>channels</th>\n",
       "      <th>difficulty</th>\n",
       "      <th>duration</th>\n",
       "      <th>offer_type</th>\n",
       "      <th>amount</th>\n",
       "      <th>o_reward</th>\n",
       "      <th>time</th>\n",
       "    </tr>\n",
       "  </thead>\n",
       "  <tbody>\n",
       "    <tr>\n",
       "      <th>0</th>\n",
       "      <td>0</td>\n",
       "      <td>F</td>\n",
       "      <td>75</td>\n",
       "      <td>20170509</td>\n",
       "      <td>100000.0</td>\n",
       "      <td>5.0</td>\n",
       "      <td>['web', 'email', 'mobile']</td>\n",
       "      <td>5.0</td>\n",
       "      <td>7.0</td>\n",
       "      <td>bogo</td>\n",
       "      <td>0.0</td>\n",
       "      <td>0</td>\n",
       "      <td>0</td>\n",
       "    </tr>\n",
       "    <tr>\n",
       "      <th>1</th>\n",
       "      <td>1</td>\n",
       "      <td>O</td>\n",
       "      <td>118</td>\n",
       "      <td>20170804</td>\n",
       "      <td>64000.0</td>\n",
       "      <td>5.0</td>\n",
       "      <td>['web', 'email']</td>\n",
       "      <td>20.0</td>\n",
       "      <td>10.0</td>\n",
       "      <td>discount</td>\n",
       "      <td>0.0</td>\n",
       "      <td>0</td>\n",
       "      <td>0</td>\n",
       "    </tr>\n",
       "    <tr>\n",
       "      <th>2</th>\n",
       "      <td>2</td>\n",
       "      <td>M</td>\n",
       "      <td>68</td>\n",
       "      <td>20180426</td>\n",
       "      <td>70000.0</td>\n",
       "      <td>2.0</td>\n",
       "      <td>['web', 'email', 'mobile']</td>\n",
       "      <td>10.0</td>\n",
       "      <td>7.0</td>\n",
       "      <td>discount</td>\n",
       "      <td>0.0</td>\n",
       "      <td>0</td>\n",
       "      <td>0</td>\n",
       "    </tr>\n",
       "    <tr>\n",
       "      <th>3</th>\n",
       "      <td>3</td>\n",
       "      <td>O</td>\n",
       "      <td>118</td>\n",
       "      <td>20170925</td>\n",
       "      <td>64000.0</td>\n",
       "      <td>2.0</td>\n",
       "      <td>['web', 'email', 'mobile', 'social']</td>\n",
       "      <td>10.0</td>\n",
       "      <td>10.0</td>\n",
       "      <td>discount</td>\n",
       "      <td>0.0</td>\n",
       "      <td>0</td>\n",
       "      <td>0</td>\n",
       "    </tr>\n",
       "    <tr>\n",
       "      <th>4</th>\n",
       "      <td>4</td>\n",
       "      <td>O</td>\n",
       "      <td>118</td>\n",
       "      <td>20171002</td>\n",
       "      <td>64000.0</td>\n",
       "      <td>10.0</td>\n",
       "      <td>['web', 'email', 'mobile', 'social']</td>\n",
       "      <td>10.0</td>\n",
       "      <td>5.0</td>\n",
       "      <td>bogo</td>\n",
       "      <td>0.0</td>\n",
       "      <td>0</td>\n",
       "      <td>0</td>\n",
       "    </tr>\n",
       "  </tbody>\n",
       "</table>\n",
       "</div>"
      ],
      "text/plain": [
       "   index gender  age  became_member_on    income  reward  \\\n",
       "0      0      F   75          20170509  100000.0     5.0   \n",
       "1      1      O  118          20170804   64000.0     5.0   \n",
       "2      2      M   68          20180426   70000.0     2.0   \n",
       "3      3      O  118          20170925   64000.0     2.0   \n",
       "4      4      O  118          20171002   64000.0    10.0   \n",
       "\n",
       "                               channels  difficulty  duration offer_type  \\\n",
       "0            ['web', 'email', 'mobile']         5.0       7.0       bogo   \n",
       "1                      ['web', 'email']        20.0      10.0   discount   \n",
       "2            ['web', 'email', 'mobile']        10.0       7.0   discount   \n",
       "3  ['web', 'email', 'mobile', 'social']        10.0      10.0   discount   \n",
       "4  ['web', 'email', 'mobile', 'social']        10.0       5.0       bogo   \n",
       "\n",
       "   amount  o_reward  time  \n",
       "0     0.0         0     0  \n",
       "1     0.0         0     0  \n",
       "2     0.0         0     0  \n",
       "3     0.0         0     0  \n",
       "4     0.0         0     0  "
      ]
     },
     "execution_count": 215,
     "metadata": {},
     "output_type": "execute_result"
    }
   ],
   "source": [
    "data.head()"
   ]
  },
  {
   "cell_type": "code",
   "execution_count": 216,
   "metadata": {},
   "outputs": [],
   "source": [
    "# for i in range(len(data)):\n",
    "#     res = []\n",
    "#     if i%10000 == 0:\n",
    "#         print(\"{} out of {} completed...\".format(i, len(data)))\n",
    "#     tmp = data.loc[i, \"channels\"]\n",
    "#     res.append(tmp)\n",
    "#     data.loc[i, \"channels\"] = res"
   ]
  },
  {
   "cell_type": "code",
   "execution_count": 217,
   "metadata": {},
   "outputs": [
    {
     "data": {
      "text/plain": [
       "0                   ['web', 'email', 'mobile']\n",
       "1                             ['web', 'email']\n",
       "2                   ['web', 'email', 'mobile']\n",
       "3         ['web', 'email', 'mobile', 'social']\n",
       "4         ['web', 'email', 'mobile', 'social']\n",
       "                          ...                 \n",
       "133993    ['web', 'email', 'mobile', 'social']\n",
       "133994           ['email', 'mobile', 'social']\n",
       "133995           ['email', 'mobile', 'social']\n",
       "133996           ['email', 'mobile', 'social']\n",
       "133997           ['email', 'mobile', 'social']\n",
       "Name: channels, Length: 133998, dtype: object"
      ]
     },
     "execution_count": 217,
     "metadata": {},
     "output_type": "execute_result"
    }
   ],
   "source": [
    "data.pop(\"channels\")"
   ]
  },
  {
   "cell_type": "code",
   "execution_count": 196,
   "metadata": {},
   "outputs": [],
   "source": [
    "# data[\"channels\"]\n",
    "# from sklearn.preprocessing import MultiLabelBinarizer\n",
    "\n",
    "# mlb = MultiLabelBinarizer()\n",
    "# data = data.join(pd.DataFrame(mlb.fit_transform(data.pop('channels')),\n",
    "#                           columns=mlb.classes_,\n",
    "#                           index=data.index))\n"
   ]
  },
  {
   "cell_type": "code",
   "execution_count": 230,
   "metadata": {},
   "outputs": [],
   "source": [
    "from sklearn.model_selection import train_test_split\n",
    "X_train , X_test, y_train, y_test =train_test_split(data, y, test_size=0.3, random_state=42)"
   ]
  },
  {
   "cell_type": "code",
   "execution_count": 231,
   "metadata": {},
   "outputs": [
    {
     "ename": "MemoryError",
     "evalue": "",
     "output_type": "error",
     "traceback": [
      "\u001b[0;31m---------------------------------------------------------------------------\u001b[0m",
      "\u001b[0;31mMemoryError\u001b[0m                               Traceback (most recent call last)",
      "\u001b[0;32m<ipython-input-231-d4c4a4cc43ad>\u001b[0m in \u001b[0;36m<module>\u001b[0;34m()\u001b[0m\n\u001b[1;32m      1\u001b[0m \u001b[0;32mfrom\u001b[0m \u001b[0msklearn\u001b[0m\u001b[0;34m.\u001b[0m\u001b[0mpreprocessing\u001b[0m \u001b[0;32mimport\u001b[0m \u001b[0mOneHotEncoder\u001b[0m\u001b[0;34m\u001b[0m\u001b[0;34m\u001b[0m\u001b[0m\n\u001b[1;32m      2\u001b[0m \u001b[0menc\u001b[0m \u001b[0;34m=\u001b[0m \u001b[0mOneHotEncoder\u001b[0m\u001b[0;34m(\u001b[0m\u001b[0mhandle_unknown\u001b[0m\u001b[0;34m=\u001b[0m\u001b[0;34m'ignore'\u001b[0m\u001b[0;34m)\u001b[0m\u001b[0;34m\u001b[0m\u001b[0;34m\u001b[0m\u001b[0m\n\u001b[0;32m----> 3\u001b[0;31m \u001b[0mX_train\u001b[0m \u001b[0;34m=\u001b[0m \u001b[0menc\u001b[0m\u001b[0;34m.\u001b[0m\u001b[0mfit_transform\u001b[0m\u001b[0;34m(\u001b[0m\u001b[0mX_train\u001b[0m\u001b[0;34m.\u001b[0m\u001b[0mtoarray\u001b[0m\u001b[0;34m(\u001b[0m\u001b[0;34m)\u001b[0m\u001b[0;34m)\u001b[0m\u001b[0;34m\u001b[0m\u001b[0;34m\u001b[0m\u001b[0m\n\u001b[0m",
      "\u001b[0;32m~/anaconda3/lib/python3.7/site-packages/scipy/sparse/compressed.py\u001b[0m in \u001b[0;36mtoarray\u001b[0;34m(self, order, out)\u001b[0m\n\u001b[1;32m    960\u001b[0m         \u001b[0;32mif\u001b[0m \u001b[0mout\u001b[0m \u001b[0;32mis\u001b[0m \u001b[0;32mNone\u001b[0m \u001b[0;32mand\u001b[0m \u001b[0morder\u001b[0m \u001b[0;32mis\u001b[0m \u001b[0;32mNone\u001b[0m\u001b[0;34m:\u001b[0m\u001b[0;34m\u001b[0m\u001b[0;34m\u001b[0m\u001b[0m\n\u001b[1;32m    961\u001b[0m             \u001b[0morder\u001b[0m \u001b[0;34m=\u001b[0m \u001b[0mself\u001b[0m\u001b[0;34m.\u001b[0m\u001b[0m_swap\u001b[0m\u001b[0;34m(\u001b[0m\u001b[0;34m'cf'\u001b[0m\u001b[0;34m)\u001b[0m\u001b[0;34m[\u001b[0m\u001b[0;36m0\u001b[0m\u001b[0;34m]\u001b[0m\u001b[0;34m\u001b[0m\u001b[0;34m\u001b[0m\u001b[0m\n\u001b[0;32m--> 962\u001b[0;31m         \u001b[0mout\u001b[0m \u001b[0;34m=\u001b[0m \u001b[0mself\u001b[0m\u001b[0;34m.\u001b[0m\u001b[0m_process_toarray_args\u001b[0m\u001b[0;34m(\u001b[0m\u001b[0morder\u001b[0m\u001b[0;34m,\u001b[0m \u001b[0mout\u001b[0m\u001b[0;34m)\u001b[0m\u001b[0;34m\u001b[0m\u001b[0;34m\u001b[0m\u001b[0m\n\u001b[0m\u001b[1;32m    963\u001b[0m         \u001b[0;32mif\u001b[0m \u001b[0;32mnot\u001b[0m \u001b[0;34m(\u001b[0m\u001b[0mout\u001b[0m\u001b[0;34m.\u001b[0m\u001b[0mflags\u001b[0m\u001b[0;34m.\u001b[0m\u001b[0mc_contiguous\u001b[0m \u001b[0;32mor\u001b[0m \u001b[0mout\u001b[0m\u001b[0;34m.\u001b[0m\u001b[0mflags\u001b[0m\u001b[0;34m.\u001b[0m\u001b[0mf_contiguous\u001b[0m\u001b[0;34m)\u001b[0m\u001b[0;34m:\u001b[0m\u001b[0;34m\u001b[0m\u001b[0;34m\u001b[0m\u001b[0m\n\u001b[1;32m    964\u001b[0m             \u001b[0;32mraise\u001b[0m \u001b[0mValueError\u001b[0m\u001b[0;34m(\u001b[0m\u001b[0;34m'Output array must be C or F contiguous'\u001b[0m\u001b[0;34m)\u001b[0m\u001b[0;34m\u001b[0m\u001b[0;34m\u001b[0m\u001b[0m\n",
      "\u001b[0;32m~/anaconda3/lib/python3.7/site-packages/scipy/sparse/base.py\u001b[0m in \u001b[0;36m_process_toarray_args\u001b[0;34m(self, order, out)\u001b[0m\n\u001b[1;32m   1185\u001b[0m             \u001b[0;32mreturn\u001b[0m \u001b[0mout\u001b[0m\u001b[0;34m\u001b[0m\u001b[0;34m\u001b[0m\u001b[0m\n\u001b[1;32m   1186\u001b[0m         \u001b[0;32melse\u001b[0m\u001b[0;34m:\u001b[0m\u001b[0;34m\u001b[0m\u001b[0;34m\u001b[0m\u001b[0m\n\u001b[0;32m-> 1187\u001b[0;31m             \u001b[0;32mreturn\u001b[0m \u001b[0mnp\u001b[0m\u001b[0;34m.\u001b[0m\u001b[0mzeros\u001b[0m\u001b[0;34m(\u001b[0m\u001b[0mself\u001b[0m\u001b[0;34m.\u001b[0m\u001b[0mshape\u001b[0m\u001b[0;34m,\u001b[0m \u001b[0mdtype\u001b[0m\u001b[0;34m=\u001b[0m\u001b[0mself\u001b[0m\u001b[0;34m.\u001b[0m\u001b[0mdtype\u001b[0m\u001b[0;34m,\u001b[0m \u001b[0morder\u001b[0m\u001b[0;34m=\u001b[0m\u001b[0morder\u001b[0m\u001b[0;34m)\u001b[0m\u001b[0;34m\u001b[0m\u001b[0;34m\u001b[0m\u001b[0m\n\u001b[0m\u001b[1;32m   1188\u001b[0m \u001b[0;34m\u001b[0m\u001b[0m\n\u001b[1;32m   1189\u001b[0m \u001b[0;34m\u001b[0m\u001b[0m\n",
      "\u001b[0;31mMemoryError\u001b[0m: "
     ]
    }
   ],
   "source": [
    "from sklearn.preprocessing import OneHotEncoder\n",
    "enc = OneHotEncoder(handle_unknown='ignore')\n",
    "X_train = enc.fit_transform(X_train)"
   ]
  },
  {
   "cell_type": "code",
   "execution_count": 220,
   "metadata": {},
   "outputs": [
    {
     "data": {
      "text/plain": [
       "(1, 136033)"
      ]
     },
     "execution_count": 220,
     "metadata": {},
     "output_type": "execute_result"
    }
   ],
   "source": [
    "(data[0].shape)"
   ]
  },
  {
   "cell_type": "code",
   "execution_count": null,
   "metadata": {},
   "outputs": [],
   "source": [
    "# enc2 = OneHotEncoder(handle_unknown='ignore')\n",
    "# data = data.join(pd.DataFrame(enc2.fit_transform(data.pop('offer_type')),\n",
    "#                           index=data.index))"
   ]
  },
  {
   "cell_type": "code",
   "execution_count": 199,
   "metadata": {},
   "outputs": [],
   "source": [
    "from sklearn.preprocessing import LabelEncoder\n",
    "le = LabelEncoder()\n",
    "y = le.fit_transform(y)"
   ]
  },
  {
   "cell_type": "code",
   "execution_count": null,
   "metadata": {},
   "outputs": [],
   "source": []
  }
 ],
 "metadata": {
  "kernelspec": {
   "display_name": "Python 3",
   "language": "python",
   "name": "python3"
  },
  "language_info": {
   "codemirror_mode": {
    "name": "ipython",
    "version": 3
   },
   "file_extension": ".py",
   "mimetype": "text/x-python",
   "name": "python",
   "nbconvert_exporter": "python",
   "pygments_lexer": "ipython3",
   "version": "3.7.1"
  }
 },
 "nbformat": 4,
 "nbformat_minor": 2
}
