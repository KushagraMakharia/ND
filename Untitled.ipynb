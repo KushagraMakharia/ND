{
 "cells": [
  {
   "cell_type": "code",
   "execution_count": 1,
   "metadata": {},
   "outputs": [],
   "source": [
    "import pandas as pd\n",
    "import json"
   ]
  },
  {
   "cell_type": "code",
   "execution_count": 8,
   "metadata": {},
   "outputs": [
    {
     "data": {
      "text/html": [
       "<div>\n",
       "<style scoped>\n",
       "    .dataframe tbody tr th:only-of-type {\n",
       "        vertical-align: middle;\n",
       "    }\n",
       "\n",
       "    .dataframe tbody tr th {\n",
       "        vertical-align: top;\n",
       "    }\n",
       "\n",
       "    .dataframe thead th {\n",
       "        text-align: right;\n",
       "    }\n",
       "</style>\n",
       "<table border=\"1\" class=\"dataframe\">\n",
       "  <thead>\n",
       "    <tr style=\"text-align: right;\">\n",
       "      <th></th>\n",
       "      <th>gender</th>\n",
       "      <th>age</th>\n",
       "      <th>id</th>\n",
       "      <th>became_member_on</th>\n",
       "      <th>income</th>\n",
       "    </tr>\n",
       "  </thead>\n",
       "  <tbody>\n",
       "    <tr>\n",
       "      <td>0</td>\n",
       "      <td>None</td>\n",
       "      <td>118</td>\n",
       "      <td>68be06ca386d4c31939f3a4f0e3dd783</td>\n",
       "      <td>20170212</td>\n",
       "      <td>NaN</td>\n",
       "    </tr>\n",
       "    <tr>\n",
       "      <td>1</td>\n",
       "      <td>F</td>\n",
       "      <td>55</td>\n",
       "      <td>0610b486422d4921ae7d2bf64640c50b</td>\n",
       "      <td>20170715</td>\n",
       "      <td>112000.0</td>\n",
       "    </tr>\n",
       "    <tr>\n",
       "      <td>2</td>\n",
       "      <td>None</td>\n",
       "      <td>118</td>\n",
       "      <td>38fe809add3b4fcf9315a9694bb96ff5</td>\n",
       "      <td>20180712</td>\n",
       "      <td>NaN</td>\n",
       "    </tr>\n",
       "    <tr>\n",
       "      <td>3</td>\n",
       "      <td>F</td>\n",
       "      <td>75</td>\n",
       "      <td>78afa995795e4d85b5d9ceeca43f5fef</td>\n",
       "      <td>20170509</td>\n",
       "      <td>100000.0</td>\n",
       "    </tr>\n",
       "    <tr>\n",
       "      <td>4</td>\n",
       "      <td>None</td>\n",
       "      <td>118</td>\n",
       "      <td>a03223e636434f42ac4c3df47e8bac43</td>\n",
       "      <td>20170804</td>\n",
       "      <td>NaN</td>\n",
       "    </tr>\n",
       "  </tbody>\n",
       "</table>\n",
       "</div>"
      ],
      "text/plain": [
       "  gender  age                                id  became_member_on    income\n",
       "0   None  118  68be06ca386d4c31939f3a4f0e3dd783          20170212       NaN\n",
       "1      F   55  0610b486422d4921ae7d2bf64640c50b          20170715  112000.0\n",
       "2   None  118  38fe809add3b4fcf9315a9694bb96ff5          20180712       NaN\n",
       "3      F   75  78afa995795e4d85b5d9ceeca43f5fef          20170509  100000.0\n",
       "4   None  118  a03223e636434f42ac4c3df47e8bac43          20170804       NaN"
      ]
     },
     "execution_count": 8,
     "metadata": {},
     "output_type": "execute_result"
    }
   ],
   "source": [
    "profile = pd.read_json(\"./profile.json\", lines=True)\n",
    "profile.head()"
   ]
  },
  {
   "cell_type": "code",
   "execution_count": 7,
   "metadata": {},
   "outputs": [
    {
     "data": {
      "text/html": [
       "<div>\n",
       "<style scoped>\n",
       "    .dataframe tbody tr th:only-of-type {\n",
       "        vertical-align: middle;\n",
       "    }\n",
       "\n",
       "    .dataframe tbody tr th {\n",
       "        vertical-align: top;\n",
       "    }\n",
       "\n",
       "    .dataframe thead th {\n",
       "        text-align: right;\n",
       "    }\n",
       "</style>\n",
       "<table border=\"1\" class=\"dataframe\">\n",
       "  <thead>\n",
       "    <tr style=\"text-align: right;\">\n",
       "      <th></th>\n",
       "      <th>reward</th>\n",
       "      <th>channels</th>\n",
       "      <th>difficulty</th>\n",
       "      <th>duration</th>\n",
       "      <th>offer_type</th>\n",
       "      <th>id</th>\n",
       "    </tr>\n",
       "  </thead>\n",
       "  <tbody>\n",
       "    <tr>\n",
       "      <td>0</td>\n",
       "      <td>10</td>\n",
       "      <td>[email, mobile, social]</td>\n",
       "      <td>10</td>\n",
       "      <td>7</td>\n",
       "      <td>bogo</td>\n",
       "      <td>ae264e3637204a6fb9bb56bc8210ddfd</td>\n",
       "    </tr>\n",
       "    <tr>\n",
       "      <td>1</td>\n",
       "      <td>10</td>\n",
       "      <td>[web, email, mobile, social]</td>\n",
       "      <td>10</td>\n",
       "      <td>5</td>\n",
       "      <td>bogo</td>\n",
       "      <td>4d5c57ea9a6940dd891ad53e9dbe8da0</td>\n",
       "    </tr>\n",
       "    <tr>\n",
       "      <td>2</td>\n",
       "      <td>0</td>\n",
       "      <td>[web, email, mobile]</td>\n",
       "      <td>0</td>\n",
       "      <td>4</td>\n",
       "      <td>informational</td>\n",
       "      <td>3f207df678b143eea3cee63160fa8bed</td>\n",
       "    </tr>\n",
       "    <tr>\n",
       "      <td>3</td>\n",
       "      <td>5</td>\n",
       "      <td>[web, email, mobile]</td>\n",
       "      <td>5</td>\n",
       "      <td>7</td>\n",
       "      <td>bogo</td>\n",
       "      <td>9b98b8c7a33c4b65b9aebfe6a799e6d9</td>\n",
       "    </tr>\n",
       "    <tr>\n",
       "      <td>4</td>\n",
       "      <td>5</td>\n",
       "      <td>[web, email]</td>\n",
       "      <td>20</td>\n",
       "      <td>10</td>\n",
       "      <td>discount</td>\n",
       "      <td>0b1e1539f2cc45b7b9fa7c272da2e1d7</td>\n",
       "    </tr>\n",
       "  </tbody>\n",
       "</table>\n",
       "</div>"
      ],
      "text/plain": [
       "   reward                      channels  difficulty  duration     offer_type  \\\n",
       "0      10       [email, mobile, social]          10         7           bogo   \n",
       "1      10  [web, email, mobile, social]          10         5           bogo   \n",
       "2       0          [web, email, mobile]           0         4  informational   \n",
       "3       5          [web, email, mobile]           5         7           bogo   \n",
       "4       5                  [web, email]          20        10       discount   \n",
       "\n",
       "                                 id  \n",
       "0  ae264e3637204a6fb9bb56bc8210ddfd  \n",
       "1  4d5c57ea9a6940dd891ad53e9dbe8da0  \n",
       "2  3f207df678b143eea3cee63160fa8bed  \n",
       "3  9b98b8c7a33c4b65b9aebfe6a799e6d9  \n",
       "4  0b1e1539f2cc45b7b9fa7c272da2e1d7  "
      ]
     },
     "execution_count": 7,
     "metadata": {},
     "output_type": "execute_result"
    }
   ],
   "source": [
    "portfolio = pd.read_json(\"./portfolio.json\", lines=True)\n",
    "portfolio.head()"
   ]
  },
  {
   "cell_type": "code",
   "execution_count": 17,
   "metadata": {},
   "outputs": [
    {
     "data": {
      "text/plain": [
       "10"
      ]
     },
     "execution_count": 17,
     "metadata": {},
     "output_type": "execute_result"
    }
   ],
   "source": [
    "len(portfolio)"
   ]
  },
  {
   "cell_type": "code",
   "execution_count": 9,
   "metadata": {},
   "outputs": [
    {
     "data": {
      "text/html": [
       "<div>\n",
       "<style scoped>\n",
       "    .dataframe tbody tr th:only-of-type {\n",
       "        vertical-align: middle;\n",
       "    }\n",
       "\n",
       "    .dataframe tbody tr th {\n",
       "        vertical-align: top;\n",
       "    }\n",
       "\n",
       "    .dataframe thead th {\n",
       "        text-align: right;\n",
       "    }\n",
       "</style>\n",
       "<table border=\"1\" class=\"dataframe\">\n",
       "  <thead>\n",
       "    <tr style=\"text-align: right;\">\n",
       "      <th></th>\n",
       "      <th>person</th>\n",
       "      <th>event</th>\n",
       "      <th>value</th>\n",
       "      <th>time</th>\n",
       "    </tr>\n",
       "  </thead>\n",
       "  <tbody>\n",
       "    <tr>\n",
       "      <td>0</td>\n",
       "      <td>78afa995795e4d85b5d9ceeca43f5fef</td>\n",
       "      <td>offer received</td>\n",
       "      <td>{'offer id': '9b98b8c7a33c4b65b9aebfe6a799e6d9'}</td>\n",
       "      <td>0</td>\n",
       "    </tr>\n",
       "    <tr>\n",
       "      <td>1</td>\n",
       "      <td>a03223e636434f42ac4c3df47e8bac43</td>\n",
       "      <td>offer received</td>\n",
       "      <td>{'offer id': '0b1e1539f2cc45b7b9fa7c272da2e1d7'}</td>\n",
       "      <td>0</td>\n",
       "    </tr>\n",
       "    <tr>\n",
       "      <td>2</td>\n",
       "      <td>e2127556f4f64592b11af22de27a7932</td>\n",
       "      <td>offer received</td>\n",
       "      <td>{'offer id': '2906b810c7d4411798c6938adc9daaa5'}</td>\n",
       "      <td>0</td>\n",
       "    </tr>\n",
       "    <tr>\n",
       "      <td>3</td>\n",
       "      <td>8ec6ce2a7e7949b1bf142def7d0e0586</td>\n",
       "      <td>offer received</td>\n",
       "      <td>{'offer id': 'fafdcd668e3743c1bb461111dcafc2a4'}</td>\n",
       "      <td>0</td>\n",
       "    </tr>\n",
       "    <tr>\n",
       "      <td>4</td>\n",
       "      <td>68617ca6246f4fbc85e91a2a49552598</td>\n",
       "      <td>offer received</td>\n",
       "      <td>{'offer id': '4d5c57ea9a6940dd891ad53e9dbe8da0'}</td>\n",
       "      <td>0</td>\n",
       "    </tr>\n",
       "  </tbody>\n",
       "</table>\n",
       "</div>"
      ],
      "text/plain": [
       "                             person           event  \\\n",
       "0  78afa995795e4d85b5d9ceeca43f5fef  offer received   \n",
       "1  a03223e636434f42ac4c3df47e8bac43  offer received   \n",
       "2  e2127556f4f64592b11af22de27a7932  offer received   \n",
       "3  8ec6ce2a7e7949b1bf142def7d0e0586  offer received   \n",
       "4  68617ca6246f4fbc85e91a2a49552598  offer received   \n",
       "\n",
       "                                              value  time  \n",
       "0  {'offer id': '9b98b8c7a33c4b65b9aebfe6a799e6d9'}     0  \n",
       "1  {'offer id': '0b1e1539f2cc45b7b9fa7c272da2e1d7'}     0  \n",
       "2  {'offer id': '2906b810c7d4411798c6938adc9daaa5'}     0  \n",
       "3  {'offer id': 'fafdcd668e3743c1bb461111dcafc2a4'}     0  \n",
       "4  {'offer id': '4d5c57ea9a6940dd891ad53e9dbe8da0'}     0  "
      ]
     },
     "execution_count": 9,
     "metadata": {},
     "output_type": "execute_result"
    }
   ],
   "source": [
    "transcript = pd.read_json(\"./transcript.json\", lines=True)\n",
    "transcript.head()"
   ]
  },
  {
   "cell_type": "code",
   "execution_count": 11,
   "metadata": {},
   "outputs": [
    {
     "data": {
      "text/plain": [
       "array(['offer received', 'offer viewed', 'transaction', 'offer completed'],\n",
       "      dtype=object)"
      ]
     },
     "execution_count": 11,
     "metadata": {},
     "output_type": "execute_result"
    }
   ],
   "source": [
    "transcript.event.unique()"
   ]
  },
  {
   "cell_type": "code",
   "execution_count": 13,
   "metadata": {},
   "outputs": [
    {
     "name": "stdout",
     "output_type": "stream",
     "text": [
      "                                  person           event  \\\n",
      "0       78afa995795e4d85b5d9ceeca43f5fef  offer received   \n",
      "1       a03223e636434f42ac4c3df47e8bac43  offer received   \n",
      "2       e2127556f4f64592b11af22de27a7932  offer received   \n",
      "3       8ec6ce2a7e7949b1bf142def7d0e0586  offer received   \n",
      "4       68617ca6246f4fbc85e91a2a49552598  offer received   \n",
      "...                                  ...             ...   \n",
      "257882  d087c473b4d247ccb0abfef59ba12b0e  offer received   \n",
      "257883  cb23b66c56f64b109d673d5e56574529  offer received   \n",
      "257884  6d5f3a774f3d4714ab0c092238f3a1d7  offer received   \n",
      "257885  9dc1421481194dcd9400aec7c9ae6366  offer received   \n",
      "257886  e4052622e5ba45a8b96b59aba68cf068  offer received   \n",
      "\n",
      "                                                   value  time  \n",
      "0       {'offer id': '9b98b8c7a33c4b65b9aebfe6a799e6d9'}     0  \n",
      "1       {'offer id': '0b1e1539f2cc45b7b9fa7c272da2e1d7'}     0  \n",
      "2       {'offer id': '2906b810c7d4411798c6938adc9daaa5'}     0  \n",
      "3       {'offer id': 'fafdcd668e3743c1bb461111dcafc2a4'}     0  \n",
      "4       {'offer id': '4d5c57ea9a6940dd891ad53e9dbe8da0'}     0  \n",
      "...                                                  ...   ...  \n",
      "257882  {'offer id': 'ae264e3637204a6fb9bb56bc8210ddfd'}   576  \n",
      "257883  {'offer id': '2906b810c7d4411798c6938adc9daaa5'}   576  \n",
      "257884  {'offer id': '2298d6c36e964ae4a3e7e9706d1fb8c2'}   576  \n",
      "257885  {'offer id': 'ae264e3637204a6fb9bb56bc8210ddfd'}   576  \n",
      "257886  {'offer id': '3f207df678b143eea3cee63160fa8bed'}   576  \n",
      "\n",
      "[76277 rows x 4 columns]\n"
     ]
    }
   ],
   "source": [
    "print(transcript.loc[transcript[\"event\"] == 'offer received'])"
   ]
  },
  {
   "cell_type": "code",
   "execution_count": 14,
   "metadata": {},
   "outputs": [
    {
     "name": "stdout",
     "output_type": "stream",
     "text": [
      "                                  person         event  \\\n",
      "12650   389bc3fa690240e798340f5a15918d5c  offer viewed   \n",
      "12651   d1ede868e29245ea91818a903fec04c6  offer viewed   \n",
      "12652   102e9454054946fda62242d2e176fdce  offer viewed   \n",
      "12653   02c083884c7d45b39cc68e1314fec56c  offer viewed   \n",
      "12655   be8a5d1981a2458d90b255ddc7e0d174  offer viewed   \n",
      "...                                  ...           ...   \n",
      "306441  d56386cf344c4829bbf420d1895dca37  offer viewed   \n",
      "306450  9b51e8797290403b90d09d864dec4b94  offer viewed   \n",
      "306483  84fb57a7fe8045a8bf6236738ee73a0f  offer viewed   \n",
      "306490  abc4359eb34e4e2ca2349da2ddf771b6  offer viewed   \n",
      "306507  8dda575c2a1d44b9ac8e8b07b93d1f8e  offer viewed   \n",
      "\n",
      "                                                   value  time  \n",
      "12650   {'offer id': 'f19421c1d4aa40978ebb69ca19b0e20d'}     0  \n",
      "12651   {'offer id': '5a8bc65990b245e5a138643cd4eb9837'}     0  \n",
      "12652   {'offer id': '4d5c57ea9a6940dd891ad53e9dbe8da0'}     0  \n",
      "12653   {'offer id': 'ae264e3637204a6fb9bb56bc8210ddfd'}     0  \n",
      "12655   {'offer id': '5a8bc65990b245e5a138643cd4eb9837'}     0  \n",
      "...                                                  ...   ...  \n",
      "306441  {'offer id': '5a8bc65990b245e5a138643cd4eb9837'}   714  \n",
      "306450  {'offer id': '3f207df678b143eea3cee63160fa8bed'}   714  \n",
      "306483  {'offer id': '5a8bc65990b245e5a138643cd4eb9837'}   714  \n",
      "306490  {'offer id': '3f207df678b143eea3cee63160fa8bed'}   714  \n",
      "306507  {'offer id': '0b1e1539f2cc45b7b9fa7c272da2e1d7'}   714  \n",
      "\n",
      "[57725 rows x 4 columns]\n"
     ]
    }
   ],
   "source": [
    "print(transcript.loc[transcript[\"event\"] == 'offer viewed'])"
   ]
  },
  {
   "cell_type": "code",
   "execution_count": 15,
   "metadata": {},
   "outputs": [
    {
     "name": "stdout",
     "output_type": "stream",
     "text": [
      "                                  person        event  \\\n",
      "12654   02c083884c7d45b39cc68e1314fec56c  transaction   \n",
      "12657   9fa9ae8f57894cc9a3b8a9bbe0fc1b2f  transaction   \n",
      "12659   54890f68699049c2a04d415abc25e717  transaction   \n",
      "12670   b2f1cd155b864803ad8334cdf13c4bd2  transaction   \n",
      "12671   fe97aa22dd3e48c8b143116a8403dd52  transaction   \n",
      "...                                  ...          ...   \n",
      "306529  b3a1272bc9904337b331bf348c3e8c17  transaction   \n",
      "306530  68213b08d99a4ae1b0dcb72aebd9aa35  transaction   \n",
      "306531  a00058cf10334a308c68e7631c529907  transaction   \n",
      "306532  76ddbd6576844afe811f1a3c0fbb5bec  transaction   \n",
      "306533  c02b10e8752c4d8e9b73f918558531f7  transaction   \n",
      "\n",
      "                                 value  time  \n",
      "12654   {'amount': 0.8300000000000001}     0  \n",
      "12657                {'amount': 34.56}     0  \n",
      "12659                {'amount': 13.23}     0  \n",
      "12670                {'amount': 19.51}     0  \n",
      "12671                {'amount': 18.97}     0  \n",
      "...                                ...   ...  \n",
      "306529  {'amount': 1.5899999999999999}   714  \n",
      "306530                {'amount': 9.53}   714  \n",
      "306531                {'amount': 3.61}   714  \n",
      "306532  {'amount': 3.5300000000000002}   714  \n",
      "306533                {'amount': 4.05}   714  \n",
      "\n",
      "[138953 rows x 4 columns]\n"
     ]
    }
   ],
   "source": [
    "print(transcript.loc[transcript[\"event\"] == 'transaction'])"
   ]
  },
  {
   "cell_type": "code",
   "execution_count": 16,
   "metadata": {
    "scrolled": true
   },
   "outputs": [
    {
     "name": "stdout",
     "output_type": "stream",
     "text": [
      "                                  person            event  \\\n",
      "12658   9fa9ae8f57894cc9a3b8a9bbe0fc1b2f  offer completed   \n",
      "12672   fe97aa22dd3e48c8b143116a8403dd52  offer completed   \n",
      "12679   629fc02d56414d91bca360decdfa9288  offer completed   \n",
      "12692   676506bad68e4161b9bbaffeb039626b  offer completed   \n",
      "12697   8f7dd3b2afe14c078eb4f6e6fe4ba97d  offer completed   \n",
      "...                                  ...              ...   \n",
      "306475  0c027f5f34dd4b9eba0a25785c611273  offer completed   \n",
      "306497  a6f84f4e976f44508c358cc9aba6d2b3  offer completed   \n",
      "306506  b895c57e8cd047a8872ce02aa54759d6  offer completed   \n",
      "306509  8431c16f8e1d440880db371a68f82dd0  offer completed   \n",
      "306527  24f56b5e1849462093931b164eb803b5  offer completed   \n",
      "\n",
      "                                                    value  time  \n",
      "12658   {'offer_id': '2906b810c7d4411798c6938adc9daaa5...     0  \n",
      "12672   {'offer_id': 'fafdcd668e3743c1bb461111dcafc2a4...     0  \n",
      "12679   {'offer_id': '9b98b8c7a33c4b65b9aebfe6a799e6d9...     0  \n",
      "12692   {'offer_id': 'ae264e3637204a6fb9bb56bc8210ddfd...     0  \n",
      "12697   {'offer_id': '4d5c57ea9a6940dd891ad53e9dbe8da0...     0  \n",
      "...                                                   ...   ...  \n",
      "306475  {'offer_id': '2298d6c36e964ae4a3e7e9706d1fb8c2...   714  \n",
      "306497  {'offer_id': '2298d6c36e964ae4a3e7e9706d1fb8c2...   714  \n",
      "306506  {'offer_id': 'fafdcd668e3743c1bb461111dcafc2a4...   714  \n",
      "306509  {'offer_id': 'fafdcd668e3743c1bb461111dcafc2a4...   714  \n",
      "306527  {'offer_id': 'fafdcd668e3743c1bb461111dcafc2a4...   714  \n",
      "\n",
      "[33579 rows x 4 columns]\n"
     ]
    }
   ],
   "source": [
    "print(transcript.loc[transcript[\"event\"] == 'offer completed'])"
   ]
  },
  {
   "cell_type": "code",
   "execution_count": 40,
   "metadata": {
    "scrolled": false
   },
   "outputs": [
    {
     "name": "stdout",
     "output_type": "stream",
     "text": [
      "Processin 1 out of 306534...\n",
      "Processin 1001 out of 306534...\n",
      "Processin 2001 out of 306534...\n",
      "Processin 3001 out of 306534...\n",
      "Processin 4001 out of 306534...\n",
      "Processin 5001 out of 306534...\n",
      "Processin 6001 out of 306534...\n",
      "Processin 7001 out of 306534...\n",
      "Processin 8001 out of 306534...\n",
      "Processin 9001 out of 306534...\n",
      "Processin 10001 out of 306534...\n",
      "Processin 11001 out of 306534...\n",
      "Processin 12001 out of 306534...\n",
      "Processin 13001 out of 306534...\n",
      "Processin 14001 out of 306534...\n",
      "Processin 15001 out of 306534...\n",
      "Processin 16001 out of 306534...\n",
      "Processin 17001 out of 306534...\n",
      "Processin 18001 out of 306534...\n",
      "Processin 19001 out of 306534...\n",
      "Processin 20001 out of 306534...\n",
      "Processin 21001 out of 306534...\n",
      "Processin 22001 out of 306534...\n",
      "Processin 23001 out of 306534...\n",
      "Processin 24001 out of 306534...\n",
      "Processin 25001 out of 306534...\n",
      "Processin 26001 out of 306534...\n",
      "Processin 27001 out of 306534...\n",
      "Processin 28001 out of 306534...\n",
      "Processin 29001 out of 306534...\n",
      "Processin 30001 out of 306534...\n",
      "Processin 31001 out of 306534...\n",
      "Processin 32001 out of 306534...\n",
      "Processin 33001 out of 306534...\n",
      "Processin 34001 out of 306534...\n",
      "Processin 35001 out of 306534...\n",
      "Processin 36001 out of 306534...\n",
      "Processin 37001 out of 306534...\n",
      "Processin 38001 out of 306534...\n",
      "Processin 39001 out of 306534...\n",
      "Processin 40001 out of 306534...\n",
      "Processin 41001 out of 306534...\n",
      "Processin 42001 out of 306534...\n",
      "Processin 43001 out of 306534...\n",
      "Processin 44001 out of 306534...\n",
      "Processin 45001 out of 306534...\n",
      "Processin 46001 out of 306534...\n",
      "Processin 47001 out of 306534...\n",
      "Processin 48001 out of 306534...\n",
      "Processin 49001 out of 306534...\n",
      "Processin 50001 out of 306534...\n",
      "Processin 51001 out of 306534...\n",
      "Processin 52001 out of 306534...\n",
      "Processin 53001 out of 306534...\n",
      "Processin 54001 out of 306534...\n",
      "Processin 55001 out of 306534...\n",
      "Processin 56001 out of 306534...\n",
      "Processin 57001 out of 306534...\n",
      "Processin 58001 out of 306534...\n",
      "Processin 59001 out of 306534...\n",
      "Processin 60001 out of 306534...\n",
      "Processin 61001 out of 306534...\n",
      "Processin 62001 out of 306534...\n",
      "Processin 63001 out of 306534...\n",
      "Processin 64001 out of 306534...\n",
      "Processin 65001 out of 306534...\n",
      "Processin 66001 out of 306534...\n",
      "Processin 67001 out of 306534...\n",
      "Processin 68001 out of 306534...\n",
      "Processin 69001 out of 306534...\n",
      "Processin 70001 out of 306534...\n",
      "Processin 71001 out of 306534...\n",
      "Processin 72001 out of 306534...\n",
      "Processin 73001 out of 306534...\n",
      "Processin 74001 out of 306534...\n",
      "Processin 75001 out of 306534...\n",
      "Processin 76001 out of 306534...\n",
      "Processin 77001 out of 306534...\n",
      "Processin 78001 out of 306534...\n",
      "Processin 79001 out of 306534...\n",
      "Processin 80001 out of 306534...\n",
      "Processin 81001 out of 306534...\n",
      "Processin 82001 out of 306534...\n",
      "Processin 83001 out of 306534...\n",
      "Processin 84001 out of 306534...\n",
      "Processin 85001 out of 306534...\n",
      "Processin 86001 out of 306534...\n",
      "Processin 87001 out of 306534...\n",
      "Processin 88001 out of 306534...\n",
      "Processin 89001 out of 306534...\n",
      "Processin 90001 out of 306534...\n",
      "Processin 91001 out of 306534...\n",
      "Processin 92001 out of 306534...\n",
      "Processin 93001 out of 306534...\n",
      "Processin 94001 out of 306534...\n",
      "Processin 95001 out of 306534...\n",
      "Processin 96001 out of 306534...\n",
      "Processin 97001 out of 306534...\n",
      "Processin 98001 out of 306534...\n",
      "Processin 99001 out of 306534...\n",
      "Processin 100001 out of 306534...\n",
      "Processin 101001 out of 306534...\n",
      "Processin 102001 out of 306534...\n",
      "Processin 103001 out of 306534...\n",
      "Processin 104001 out of 306534...\n",
      "Processin 105001 out of 306534...\n",
      "Processin 106001 out of 306534...\n",
      "Processin 107001 out of 306534...\n",
      "Processin 108001 out of 306534...\n",
      "Processin 109001 out of 306534...\n",
      "Processin 110001 out of 306534...\n",
      "Processin 111001 out of 306534...\n",
      "Processin 112001 out of 306534...\n",
      "Processin 113001 out of 306534...\n",
      "Processin 114001 out of 306534...\n",
      "Processin 115001 out of 306534...\n",
      "Processin 116001 out of 306534...\n",
      "Processin 117001 out of 306534...\n",
      "Processin 118001 out of 306534...\n",
      "Processin 119001 out of 306534...\n",
      "Processin 120001 out of 306534...\n",
      "Processin 121001 out of 306534...\n",
      "Processin 122001 out of 306534...\n",
      "Processin 123001 out of 306534...\n",
      "Processin 124001 out of 306534...\n",
      "Processin 125001 out of 306534...\n",
      "Processin 126001 out of 306534...\n",
      "Processin 127001 out of 306534...\n",
      "Processin 128001 out of 306534...\n",
      "Processin 129001 out of 306534...\n",
      "Processin 130001 out of 306534...\n",
      "Processin 131001 out of 306534...\n",
      "Processin 132001 out of 306534...\n",
      "Processin 133001 out of 306534...\n",
      "Processin 134001 out of 306534...\n",
      "Processin 135001 out of 306534...\n",
      "Processin 136001 out of 306534...\n",
      "Processin 137001 out of 306534...\n",
      "Processin 138001 out of 306534...\n",
      "Processin 139001 out of 306534...\n",
      "Processin 140001 out of 306534...\n",
      "Processin 141001 out of 306534...\n",
      "Processin 142001 out of 306534...\n",
      "Processin 143001 out of 306534...\n",
      "Processin 144001 out of 306534...\n",
      "Processin 145001 out of 306534...\n",
      "Processin 146001 out of 306534...\n",
      "Processin 147001 out of 306534...\n",
      "Processin 148001 out of 306534...\n",
      "Processin 149001 out of 306534...\n",
      "Processin 150001 out of 306534...\n",
      "Processin 151001 out of 306534...\n",
      "Processin 152001 out of 306534...\n",
      "Processin 153001 out of 306534...\n",
      "Processin 154001 out of 306534...\n",
      "Processin 155001 out of 306534...\n",
      "Processin 156001 out of 306534...\n",
      "Processin 157001 out of 306534...\n",
      "Processin 158001 out of 306534...\n",
      "Processin 159001 out of 306534...\n",
      "Processin 160001 out of 306534...\n",
      "Processin 161001 out of 306534...\n",
      "Processin 162001 out of 306534...\n",
      "Processin 163001 out of 306534...\n",
      "Processin 164001 out of 306534...\n",
      "Processin 165001 out of 306534...\n",
      "Processin 166001 out of 306534...\n",
      "Processin 167001 out of 306534...\n",
      "Processin 168001 out of 306534...\n",
      "Processin 169001 out of 306534...\n",
      "Processin 170001 out of 306534...\n",
      "Processin 171001 out of 306534...\n",
      "Processin 172001 out of 306534...\n",
      "Processin 173001 out of 306534...\n",
      "Processin 174001 out of 306534...\n",
      "Processin 175001 out of 306534...\n",
      "Processin 176001 out of 306534...\n",
      "Processin 177001 out of 306534...\n",
      "Processin 178001 out of 306534...\n",
      "Processin 179001 out of 306534...\n",
      "Processin 180001 out of 306534...\n",
      "Processin 181001 out of 306534...\n",
      "Processin 182001 out of 306534...\n",
      "Processin 183001 out of 306534...\n",
      "Processin 184001 out of 306534...\n",
      "Processin 185001 out of 306534...\n",
      "Processin 186001 out of 306534...\n",
      "Processin 187001 out of 306534...\n",
      "Processin 188001 out of 306534...\n",
      "Processin 189001 out of 306534...\n",
      "Processin 190001 out of 306534...\n",
      "Processin 191001 out of 306534...\n",
      "Processin 192001 out of 306534...\n",
      "Processin 193001 out of 306534...\n",
      "Processin 194001 out of 306534...\n",
      "Processin 195001 out of 306534...\n",
      "Processin 196001 out of 306534...\n",
      "Processin 197001 out of 306534...\n",
      "Processin 198001 out of 306534...\n",
      "Processin 199001 out of 306534...\n",
      "Processin 200001 out of 306534...\n",
      "Processin 201001 out of 306534...\n",
      "Processin 202001 out of 306534...\n",
      "Processin 203001 out of 306534...\n",
      "Processin 204001 out of 306534...\n",
      "Processin 205001 out of 306534...\n",
      "Processin 206001 out of 306534...\n",
      "Processin 207001 out of 306534...\n",
      "Processin 208001 out of 306534...\n",
      "Processin 209001 out of 306534...\n",
      "Processin 210001 out of 306534...\n",
      "Processin 211001 out of 306534...\n",
      "Processin 212001 out of 306534...\n",
      "Processin 213001 out of 306534...\n",
      "Processin 214001 out of 306534...\n",
      "Processin 215001 out of 306534...\n",
      "Processin 216001 out of 306534...\n",
      "Processin 217001 out of 306534...\n",
      "Processin 218001 out of 306534...\n",
      "Processin 219001 out of 306534...\n",
      "Processin 220001 out of 306534...\n",
      "Processin 221001 out of 306534...\n",
      "Processin 222001 out of 306534...\n",
      "Processin 223001 out of 306534...\n",
      "Processin 224001 out of 306534...\n",
      "Processin 225001 out of 306534...\n",
      "Processin 226001 out of 306534...\n",
      "Processin 227001 out of 306534...\n",
      "Processin 228001 out of 306534...\n",
      "Processin 229001 out of 306534...\n",
      "Processin 230001 out of 306534...\n",
      "Processin 231001 out of 306534...\n",
      "Processin 232001 out of 306534...\n",
      "Processin 233001 out of 306534...\n",
      "Processin 234001 out of 306534...\n",
      "Processin 235001 out of 306534...\n",
      "Processin 236001 out of 306534...\n",
      "Processin 237001 out of 306534...\n",
      "Processin 238001 out of 306534...\n",
      "Processin 239001 out of 306534...\n",
      "Processin 240001 out of 306534...\n",
      "Processin 241001 out of 306534...\n",
      "Processin 242001 out of 306534...\n",
      "Processin 243001 out of 306534...\n",
      "Processin 244001 out of 306534...\n"
     ]
    },
    {
     "name": "stdout",
     "output_type": "stream",
     "text": [
      "Processin 245001 out of 306534...\n",
      "Processin 246001 out of 306534...\n",
      "Processin 247001 out of 306534...\n",
      "Processin 248001 out of 306534...\n",
      "Processin 249001 out of 306534...\n",
      "Processin 250001 out of 306534...\n",
      "Processin 251001 out of 306534...\n",
      "Processin 252001 out of 306534...\n",
      "Processin 253001 out of 306534...\n",
      "Processin 254001 out of 306534...\n",
      "Processin 255001 out of 306534...\n",
      "Processin 256001 out of 306534...\n",
      "Processin 257001 out of 306534...\n",
      "Processin 258001 out of 306534...\n",
      "Processin 259001 out of 306534...\n",
      "Processin 260001 out of 306534...\n",
      "Processin 261001 out of 306534...\n",
      "Processin 262001 out of 306534...\n",
      "Processin 263001 out of 306534...\n",
      "Processin 264001 out of 306534...\n",
      "Processin 265001 out of 306534...\n",
      "Processin 266001 out of 306534...\n",
      "Processin 267001 out of 306534...\n",
      "Processin 268001 out of 306534...\n",
      "Processin 269001 out of 306534...\n",
      "Processin 270001 out of 306534...\n",
      "Processin 271001 out of 306534...\n",
      "Processin 272001 out of 306534...\n",
      "Processin 273001 out of 306534...\n",
      "Processin 274001 out of 306534...\n",
      "Processin 275001 out of 306534...\n",
      "Processin 276001 out of 306534...\n",
      "Processin 277001 out of 306534...\n",
      "Processin 278001 out of 306534...\n",
      "Processin 279001 out of 306534...\n",
      "Processin 280001 out of 306534...\n",
      "Processin 281001 out of 306534...\n",
      "Processin 282001 out of 306534...\n",
      "Processin 283001 out of 306534...\n",
      "Processin 284001 out of 306534...\n",
      "Processin 285001 out of 306534...\n",
      "Processin 286001 out of 306534...\n",
      "Processin 287001 out of 306534...\n",
      "Processin 288001 out of 306534...\n",
      "Processin 289001 out of 306534...\n",
      "Processin 290001 out of 306534...\n",
      "Processin 291001 out of 306534...\n",
      "Processin 292001 out of 306534...\n",
      "Processin 293001 out of 306534...\n",
      "Processin 294001 out of 306534...\n",
      "Processin 295001 out of 306534...\n",
      "Processin 296001 out of 306534...\n",
      "Processin 297001 out of 306534...\n",
      "Processin 298001 out of 306534...\n",
      "Processin 299001 out of 306534...\n",
      "Processin 300001 out of 306534...\n",
      "Processin 301001 out of 306534...\n",
      "Processin 302001 out of 306534...\n",
      "Processin 303001 out of 306534...\n",
      "Processin 304001 out of 306534...\n",
      "Processin 305001 out of 306534...\n",
      "Processin 306001 out of 306534...\n"
     ]
    }
   ],
   "source": [
    "res = []\n",
    "for i in range(len(transcript)):\n",
    "    if i%1000 ==0:\n",
    "        print(\"Processin {} out of {}...\".format(i+1, len(transcript)))\n",
    "    p_id = transcript.loc[i, \"person\"]\n",
    "    temp = profile.loc[profile[\"id\"] == p_id]\n",
    "#     print(temp)\n",
    "    for t in range(len(temp)):\n",
    "        gender = temp.iloc[t,0]\n",
    "        age = temp.iloc[t,1]\n",
    "        became_member_on = temp.iloc[t,3]\n",
    "        income = temp.iloc[t,4]\n",
    "        event = transcript.loc[i,\"event\"]\n",
    "        if event in ['offer received', 'offer viewed', 'offer completed']:\n",
    "            try:\n",
    "                o_id = transcript.loc[i,\"value\"][\"offer_id\"]\n",
    "            except:\n",
    "                o_id = transcript.loc[i,\"value\"][\"offer id\"]\n",
    "            temp2 = portfolio.loc[portfolio[\"id\"] == o_id]\n",
    "#             print(temp2)\n",
    "            for t2 in range(len(temp2)):\n",
    "                reward = temp2.iloc[t2,0]\n",
    "                channels = temp2.iloc[t2,1]\n",
    "                difficulty = temp2.iloc[t2,2]\n",
    "                duration = temp2.iloc[t2,3]\n",
    "                offer_type = temp2.iloc[t2,4]\n",
    "                amount = 0\n",
    "                res.append([gender, age,p_id, became_member_on,\n",
    "                           income, event, reward, channels, difficulty, duration,\n",
    "                           offer_type, amount, transcript.loc[i,\"time\"]])\n",
    "        else:\n",
    "                reward = None\n",
    "                channels = None\n",
    "                difficulty = None\n",
    "                duration = None\n",
    "                offer_type = None\n",
    "                amount = transcript.loc[i,\"value\"][\"amount\"]\n",
    "                res.append([gender, age,p_id, became_member_on,\n",
    "                           income, event, reward, channels, difficulty, duration,\n",
    "                           offer_type, amount, transcript.loc[i,\"time\"]])                \n",
    "        \n",
    "            \n"
   ]
  },
  {
   "cell_type": "code",
   "execution_count": 41,
   "metadata": {},
   "outputs": [],
   "source": [
    "data = [[\"gender\", \"age\", \"p_id\", \"became_member_on\", \"income\", \n",
    "        \"event\", \"reward\", \"channels\", \"difficulty\", \"duration\", \"offer_type\",\n",
    "        \"o_id\", \"amount\", \"time\"]] + res"
   ]
  },
  {
   "cell_type": "code",
   "execution_count": 42,
   "metadata": {},
   "outputs": [],
   "source": [
    "import csv\n",
    "current = !pwd\n",
    "writer = csv.writer(open(\"./data.csv\", \"w+\"))\n",
    "writer.writerows(data)\n"
   ]
  },
  {
   "cell_type": "code",
   "execution_count": 86,
   "metadata": {},
   "outputs": [
    {
     "data": {
      "text/html": [
       "<div>\n",
       "<style scoped>\n",
       "    .dataframe tbody tr th:only-of-type {\n",
       "        vertical-align: middle;\n",
       "    }\n",
       "\n",
       "    .dataframe tbody tr th {\n",
       "        vertical-align: top;\n",
       "    }\n",
       "\n",
       "    .dataframe thead th {\n",
       "        text-align: right;\n",
       "    }\n",
       "</style>\n",
       "<table border=\"1\" class=\"dataframe\">\n",
       "  <thead>\n",
       "    <tr style=\"text-align: right;\">\n",
       "      <th></th>\n",
       "      <th>gender</th>\n",
       "      <th>age</th>\n",
       "      <th>p_id</th>\n",
       "      <th>became_member_on</th>\n",
       "      <th>income</th>\n",
       "      <th>event</th>\n",
       "      <th>reward</th>\n",
       "      <th>channels</th>\n",
       "      <th>difficulty</th>\n",
       "      <th>duration</th>\n",
       "      <th>offer_type</th>\n",
       "      <th>o_id</th>\n",
       "      <th>amount</th>\n",
       "      <th>time</th>\n",
       "      <th>adv</th>\n",
       "    </tr>\n",
       "  </thead>\n",
       "  <tbody>\n",
       "    <tr>\n",
       "      <td>306490</td>\n",
       "      <td>M</td>\n",
       "      <td>51</td>\n",
       "      <td>abc4359eb34e4e2ca2349da2ddf771b6</td>\n",
       "      <td>20140804</td>\n",
       "      <td>680.0</td>\n",
       "      <td>offer viewed</td>\n",
       "      <td>0.0</td>\n",
       "      <td>['web', 'email', 'mobile']</td>\n",
       "      <td>0.0</td>\n",
       "      <td>4.0</td>\n",
       "      <td>informational</td>\n",
       "      <td>0.00</td>\n",
       "      <td>714</td>\n",
       "      <td>NaN</td>\n",
       "      <td>0.0</td>\n",
       "    </tr>\n",
       "    <tr>\n",
       "      <td>306491</td>\n",
       "      <td>M</td>\n",
       "      <td>69</td>\n",
       "      <td>693082e8ccf9458a88c428779cf556a6</td>\n",
       "      <td>20140109</td>\n",
       "      <td>690.0</td>\n",
       "      <td>transaction</td>\n",
       "      <td>NaN</td>\n",
       "      <td>NaN</td>\n",
       "      <td>NaN</td>\n",
       "      <td>NaN</td>\n",
       "      <td>NaN</td>\n",
       "      <td>2.16</td>\n",
       "      <td>714</td>\n",
       "      <td>NaN</td>\n",
       "      <td>NaN</td>\n",
       "    </tr>\n",
       "    <tr>\n",
       "      <td>306492</td>\n",
       "      <td>M</td>\n",
       "      <td>19</td>\n",
       "      <td>d4f6205a98b4420082aae16e5a93655a</td>\n",
       "      <td>20171022</td>\n",
       "      <td>570.0</td>\n",
       "      <td>transaction</td>\n",
       "      <td>NaN</td>\n",
       "      <td>NaN</td>\n",
       "      <td>NaN</td>\n",
       "      <td>NaN</td>\n",
       "      <td>NaN</td>\n",
       "      <td>1.22</td>\n",
       "      <td>714</td>\n",
       "      <td>NaN</td>\n",
       "      <td>NaN</td>\n",
       "    </tr>\n",
       "    <tr>\n",
       "      <td>306493</td>\n",
       "      <td>F</td>\n",
       "      <td>78</td>\n",
       "      <td>7b2939e61c324b2087328c4b6fee2632</td>\n",
       "      <td>20171220</td>\n",
       "      <td>920.0</td>\n",
       "      <td>transaction</td>\n",
       "      <td>NaN</td>\n",
       "      <td>NaN</td>\n",
       "      <td>NaN</td>\n",
       "      <td>NaN</td>\n",
       "      <td>NaN</td>\n",
       "      <td>26.41</td>\n",
       "      <td>714</td>\n",
       "      <td>NaN</td>\n",
       "      <td>NaN</td>\n",
       "    </tr>\n",
       "    <tr>\n",
       "      <td>306494</td>\n",
       "      <td>M</td>\n",
       "      <td>54</td>\n",
       "      <td>e110e63527c24ad1b482f76acde24a42</td>\n",
       "      <td>20171004</td>\n",
       "      <td>940.0</td>\n",
       "      <td>transaction</td>\n",
       "      <td>NaN</td>\n",
       "      <td>NaN</td>\n",
       "      <td>NaN</td>\n",
       "      <td>NaN</td>\n",
       "      <td>NaN</td>\n",
       "      <td>20.89</td>\n",
       "      <td>714</td>\n",
       "      <td>NaN</td>\n",
       "      <td>NaN</td>\n",
       "    </tr>\n",
       "  </tbody>\n",
       "</table>\n",
       "</div>"
      ],
      "text/plain": [
       "       gender  age                              p_id  became_member_on  \\\n",
       "306490      M   51  abc4359eb34e4e2ca2349da2ddf771b6          20140804   \n",
       "306491      M   69  693082e8ccf9458a88c428779cf556a6          20140109   \n",
       "306492      M   19  d4f6205a98b4420082aae16e5a93655a          20171022   \n",
       "306493      F   78  7b2939e61c324b2087328c4b6fee2632          20171220   \n",
       "306494      M   54  e110e63527c24ad1b482f76acde24a42          20171004   \n",
       "\n",
       "        income         event  reward                    channels  difficulty  \\\n",
       "306490   680.0  offer viewed     0.0  ['web', 'email', 'mobile']         0.0   \n",
       "306491   690.0   transaction     NaN                         NaN         NaN   \n",
       "306492   570.0   transaction     NaN                         NaN         NaN   \n",
       "306493   920.0   transaction     NaN                         NaN         NaN   \n",
       "306494   940.0   transaction     NaN                         NaN         NaN   \n",
       "\n",
       "        duration     offer_type   o_id  amount  time  adv  \n",
       "306490       4.0  informational   0.00     714   NaN  0.0  \n",
       "306491       NaN            NaN   2.16     714   NaN  NaN  \n",
       "306492       NaN            NaN   1.22     714   NaN  NaN  \n",
       "306493       NaN            NaN  26.41     714   NaN  NaN  \n",
       "306494       NaN            NaN  20.89     714   NaN  NaN  "
      ]
     },
     "execution_count": 86,
     "metadata": {},
     "output_type": "execute_result"
    }
   ],
   "source": [
    "data = pd.read_csv(\"./data.csv\")\n",
    "data['income'] = data['income'].div(100).round(2)\n",
    "data['adv'] = data['reward'] - data['difficulty']\n",
    "data.tail()"
   ]
  },
  {
   "cell_type": "code",
   "execution_count": 75,
   "metadata": {},
   "outputs": [
    {
     "data": {
      "text/html": [
       "<div>\n",
       "<style scoped>\n",
       "    .dataframe tbody tr th:only-of-type {\n",
       "        vertical-align: middle;\n",
       "    }\n",
       "\n",
       "    .dataframe tbody tr th {\n",
       "        vertical-align: top;\n",
       "    }\n",
       "\n",
       "    .dataframe thead th {\n",
       "        text-align: right;\n",
       "    }\n",
       "</style>\n",
       "<table border=\"1\" class=\"dataframe\">\n",
       "  <thead>\n",
       "    <tr style=\"text-align: right;\">\n",
       "      <th></th>\n",
       "      <th>gender</th>\n",
       "      <th>age</th>\n",
       "      <th>p_id</th>\n",
       "      <th>became_member_on</th>\n",
       "      <th>income</th>\n",
       "      <th>event</th>\n",
       "      <th>reward</th>\n",
       "      <th>channels</th>\n",
       "      <th>difficulty</th>\n",
       "      <th>duration</th>\n",
       "      <th>offer_type</th>\n",
       "      <th>o_id</th>\n",
       "      <th>amount</th>\n",
       "      <th>time</th>\n",
       "    </tr>\n",
       "  </thead>\n",
       "  <tbody>\n",
       "    <tr>\n",
       "      <td>1</td>\n",
       "      <td>NaN</td>\n",
       "      <td>118</td>\n",
       "      <td>a03223e636434f42ac4c3df47e8bac43</td>\n",
       "      <td>20170804</td>\n",
       "      <td>NaN</td>\n",
       "      <td>offer received</td>\n",
       "      <td>5.0</td>\n",
       "      <td>['web', 'email']</td>\n",
       "      <td>20.0</td>\n",
       "      <td>10.0</td>\n",
       "      <td>discount</td>\n",
       "      <td>0.00</td>\n",
       "      <td>0</td>\n",
       "      <td>NaN</td>\n",
       "    </tr>\n",
       "    <tr>\n",
       "      <td>3</td>\n",
       "      <td>NaN</td>\n",
       "      <td>118</td>\n",
       "      <td>8ec6ce2a7e7949b1bf142def7d0e0586</td>\n",
       "      <td>20170925</td>\n",
       "      <td>NaN</td>\n",
       "      <td>offer received</td>\n",
       "      <td>2.0</td>\n",
       "      <td>['web', 'email', 'mobile', 'social']</td>\n",
       "      <td>10.0</td>\n",
       "      <td>10.0</td>\n",
       "      <td>discount</td>\n",
       "      <td>0.00</td>\n",
       "      <td>0</td>\n",
       "      <td>NaN</td>\n",
       "    </tr>\n",
       "    <tr>\n",
       "      <td>4</td>\n",
       "      <td>NaN</td>\n",
       "      <td>118</td>\n",
       "      <td>68617ca6246f4fbc85e91a2a49552598</td>\n",
       "      <td>20171002</td>\n",
       "      <td>NaN</td>\n",
       "      <td>offer received</td>\n",
       "      <td>10.0</td>\n",
       "      <td>['web', 'email', 'mobile', 'social']</td>\n",
       "      <td>10.0</td>\n",
       "      <td>5.0</td>\n",
       "      <td>bogo</td>\n",
       "      <td>0.00</td>\n",
       "      <td>0</td>\n",
       "      <td>NaN</td>\n",
       "    </tr>\n",
       "    <tr>\n",
       "      <td>6</td>\n",
       "      <td>NaN</td>\n",
       "      <td>118</td>\n",
       "      <td>c4863c7985cf408faee930f111475da3</td>\n",
       "      <td>20170824</td>\n",
       "      <td>NaN</td>\n",
       "      <td>offer received</td>\n",
       "      <td>3.0</td>\n",
       "      <td>['web', 'email', 'mobile', 'social']</td>\n",
       "      <td>7.0</td>\n",
       "      <td>7.0</td>\n",
       "      <td>discount</td>\n",
       "      <td>0.00</td>\n",
       "      <td>0</td>\n",
       "      <td>NaN</td>\n",
       "    </tr>\n",
       "    <tr>\n",
       "      <td>10</td>\n",
       "      <td>NaN</td>\n",
       "      <td>118</td>\n",
       "      <td>744d603ef08c4f33af5a61c8c7628d1c</td>\n",
       "      <td>20170801</td>\n",
       "      <td>NaN</td>\n",
       "      <td>offer received</td>\n",
       "      <td>5.0</td>\n",
       "      <td>['web', 'email']</td>\n",
       "      <td>20.0</td>\n",
       "      <td>10.0</td>\n",
       "      <td>discount</td>\n",
       "      <td>0.00</td>\n",
       "      <td>0</td>\n",
       "      <td>NaN</td>\n",
       "    </tr>\n",
       "    <tr>\n",
       "      <td>...</td>\n",
       "      <td>...</td>\n",
       "      <td>...</td>\n",
       "      <td>...</td>\n",
       "      <td>...</td>\n",
       "      <td>...</td>\n",
       "      <td>...</td>\n",
       "      <td>...</td>\n",
       "      <td>...</td>\n",
       "      <td>...</td>\n",
       "      <td>...</td>\n",
       "      <td>...</td>\n",
       "      <td>...</td>\n",
       "      <td>...</td>\n",
       "      <td>...</td>\n",
       "    </tr>\n",
       "    <tr>\n",
       "      <td>306437</td>\n",
       "      <td>NaN</td>\n",
       "      <td>118</td>\n",
       "      <td>7713b9dfc90f4570a6eab57cf64191b9</td>\n",
       "      <td>20160219</td>\n",
       "      <td>NaN</td>\n",
       "      <td>transaction</td>\n",
       "      <td>NaN</td>\n",
       "      <td>NaN</td>\n",
       "      <td>NaN</td>\n",
       "      <td>NaN</td>\n",
       "      <td>NaN</td>\n",
       "      <td>1.69</td>\n",
       "      <td>714</td>\n",
       "      <td>NaN</td>\n",
       "    </tr>\n",
       "    <tr>\n",
       "      <td>306441</td>\n",
       "      <td>NaN</td>\n",
       "      <td>118</td>\n",
       "      <td>d56386cf344c4829bbf420d1895dca37</td>\n",
       "      <td>20171102</td>\n",
       "      <td>NaN</td>\n",
       "      <td>offer viewed</td>\n",
       "      <td>0.0</td>\n",
       "      <td>['email', 'mobile', 'social']</td>\n",
       "      <td>0.0</td>\n",
       "      <td>3.0</td>\n",
       "      <td>informational</td>\n",
       "      <td>0.00</td>\n",
       "      <td>714</td>\n",
       "      <td>NaN</td>\n",
       "    </tr>\n",
       "    <tr>\n",
       "      <td>306461</td>\n",
       "      <td>NaN</td>\n",
       "      <td>118</td>\n",
       "      <td>cf94d1e2bdfe4be297c5f31c50d19ec7</td>\n",
       "      <td>20150929</td>\n",
       "      <td>NaN</td>\n",
       "      <td>transaction</td>\n",
       "      <td>NaN</td>\n",
       "      <td>NaN</td>\n",
       "      <td>NaN</td>\n",
       "      <td>NaN</td>\n",
       "      <td>NaN</td>\n",
       "      <td>2.97</td>\n",
       "      <td>714</td>\n",
       "      <td>NaN</td>\n",
       "    </tr>\n",
       "    <tr>\n",
       "      <td>306466</td>\n",
       "      <td>NaN</td>\n",
       "      <td>118</td>\n",
       "      <td>9b84c5f2038e4f638813091d3565a8f0</td>\n",
       "      <td>20160408</td>\n",
       "      <td>NaN</td>\n",
       "      <td>transaction</td>\n",
       "      <td>NaN</td>\n",
       "      <td>NaN</td>\n",
       "      <td>NaN</td>\n",
       "      <td>NaN</td>\n",
       "      <td>NaN</td>\n",
       "      <td>0.15</td>\n",
       "      <td>714</td>\n",
       "      <td>NaN</td>\n",
       "    </tr>\n",
       "    <tr>\n",
       "      <td>306478</td>\n",
       "      <td>NaN</td>\n",
       "      <td>118</td>\n",
       "      <td>e6610f34d20d4f9da23105c3ee064b7d</td>\n",
       "      <td>20170212</td>\n",
       "      <td>NaN</td>\n",
       "      <td>transaction</td>\n",
       "      <td>NaN</td>\n",
       "      <td>NaN</td>\n",
       "      <td>NaN</td>\n",
       "      <td>NaN</td>\n",
       "      <td>NaN</td>\n",
       "      <td>3.35</td>\n",
       "      <td>714</td>\n",
       "      <td>NaN</td>\n",
       "    </tr>\n",
       "  </tbody>\n",
       "</table>\n",
       "<p>33863 rows × 14 columns</p>\n",
       "</div>"
      ],
      "text/plain": [
       "       gender  age                              p_id  became_member_on  \\\n",
       "1         NaN  118  a03223e636434f42ac4c3df47e8bac43          20170804   \n",
       "3         NaN  118  8ec6ce2a7e7949b1bf142def7d0e0586          20170925   \n",
       "4         NaN  118  68617ca6246f4fbc85e91a2a49552598          20171002   \n",
       "6         NaN  118  c4863c7985cf408faee930f111475da3          20170824   \n",
       "10        NaN  118  744d603ef08c4f33af5a61c8c7628d1c          20170801   \n",
       "...       ...  ...                               ...               ...   \n",
       "306437    NaN  118  7713b9dfc90f4570a6eab57cf64191b9          20160219   \n",
       "306441    NaN  118  d56386cf344c4829bbf420d1895dca37          20171102   \n",
       "306461    NaN  118  cf94d1e2bdfe4be297c5f31c50d19ec7          20150929   \n",
       "306466    NaN  118  9b84c5f2038e4f638813091d3565a8f0          20160408   \n",
       "306478    NaN  118  e6610f34d20d4f9da23105c3ee064b7d          20170212   \n",
       "\n",
       "        income           event  reward                              channels  \\\n",
       "1          NaN  offer received     5.0                      ['web', 'email']   \n",
       "3          NaN  offer received     2.0  ['web', 'email', 'mobile', 'social']   \n",
       "4          NaN  offer received    10.0  ['web', 'email', 'mobile', 'social']   \n",
       "6          NaN  offer received     3.0  ['web', 'email', 'mobile', 'social']   \n",
       "10         NaN  offer received     5.0                      ['web', 'email']   \n",
       "...        ...             ...     ...                                   ...   \n",
       "306437     NaN     transaction     NaN                                   NaN   \n",
       "306441     NaN    offer viewed     0.0         ['email', 'mobile', 'social']   \n",
       "306461     NaN     transaction     NaN                                   NaN   \n",
       "306466     NaN     transaction     NaN                                   NaN   \n",
       "306478     NaN     transaction     NaN                                   NaN   \n",
       "\n",
       "        difficulty  duration     offer_type  o_id  amount  time  \n",
       "1             20.0      10.0       discount  0.00       0   NaN  \n",
       "3             10.0      10.0       discount  0.00       0   NaN  \n",
       "4             10.0       5.0           bogo  0.00       0   NaN  \n",
       "6              7.0       7.0       discount  0.00       0   NaN  \n",
       "10            20.0      10.0       discount  0.00       0   NaN  \n",
       "...            ...       ...            ...   ...     ...   ...  \n",
       "306437         NaN       NaN            NaN  1.69     714   NaN  \n",
       "306441         0.0       3.0  informational  0.00     714   NaN  \n",
       "306461         NaN       NaN            NaN  2.97     714   NaN  \n",
       "306466         NaN       NaN            NaN  0.15     714   NaN  \n",
       "306478         NaN       NaN            NaN  3.35     714   NaN  \n",
       "\n",
       "[33863 rows x 14 columns]"
      ]
     },
     "execution_count": 75,
     "metadata": {},
     "output_type": "execute_result"
    }
   ],
   "source": [
    "sample = data.loc[data[\"age\"] > 100]\n",
    "sample"
   ]
  },
  {
   "cell_type": "code",
   "execution_count": 76,
   "metadata": {},
   "outputs": [
    {
     "data": {
      "text/html": [
       "<div>\n",
       "<style scoped>\n",
       "    .dataframe tbody tr th:only-of-type {\n",
       "        vertical-align: middle;\n",
       "    }\n",
       "\n",
       "    .dataframe tbody tr th {\n",
       "        vertical-align: top;\n",
       "    }\n",
       "\n",
       "    .dataframe thead th {\n",
       "        text-align: right;\n",
       "    }\n",
       "</style>\n",
       "<table border=\"1\" class=\"dataframe\">\n",
       "  <thead>\n",
       "    <tr style=\"text-align: right;\">\n",
       "      <th></th>\n",
       "      <th>age</th>\n",
       "      <th>became_member_on</th>\n",
       "      <th>income</th>\n",
       "      <th>reward</th>\n",
       "      <th>difficulty</th>\n",
       "      <th>duration</th>\n",
       "      <th>o_id</th>\n",
       "      <th>amount</th>\n",
       "      <th>time</th>\n",
       "    </tr>\n",
       "  </thead>\n",
       "  <tbody>\n",
       "    <tr>\n",
       "      <td>count</td>\n",
       "      <td>306495.000000</td>\n",
       "      <td>3.064950e+05</td>\n",
       "      <td>272729.000000</td>\n",
       "      <td>167576.000000</td>\n",
       "      <td>167576.000000</td>\n",
       "      <td>167576.000000</td>\n",
       "      <td>306495.000000</td>\n",
       "      <td>306495.000000</td>\n",
       "      <td>0.0</td>\n",
       "    </tr>\n",
       "    <tr>\n",
       "      <td>mean</td>\n",
       "      <td>60.908906</td>\n",
       "      <td>2.016545e+07</td>\n",
       "      <td>643.369609</td>\n",
       "      <td>4.419959</td>\n",
       "      <td>7.850295</td>\n",
       "      <td>6.610654</td>\n",
       "      <td>5.791364</td>\n",
       "      <td>366.338707</td>\n",
       "      <td>NaN</td>\n",
       "    </tr>\n",
       "    <tr>\n",
       "      <td>std</td>\n",
       "      <td>26.031801</td>\n",
       "      <td>1.190440e+04</td>\n",
       "      <td>212.442110</td>\n",
       "      <td>3.373393</td>\n",
       "      <td>5.048923</td>\n",
       "      <td>2.136098</td>\n",
       "      <td>21.337998</td>\n",
       "      <td>200.300675</td>\n",
       "      <td>NaN</td>\n",
       "    </tr>\n",
       "    <tr>\n",
       "      <td>min</td>\n",
       "      <td>18.000000</td>\n",
       "      <td>2.013073e+07</td>\n",
       "      <td>300.000000</td>\n",
       "      <td>0.000000</td>\n",
       "      <td>0.000000</td>\n",
       "      <td>3.000000</td>\n",
       "      <td>0.000000</td>\n",
       "      <td>0.000000</td>\n",
       "      <td>NaN</td>\n",
       "    </tr>\n",
       "    <tr>\n",
       "      <td>25%</td>\n",
       "      <td>43.000000</td>\n",
       "      <td>2.016032e+07</td>\n",
       "      <td>480.000000</td>\n",
       "      <td>2.000000</td>\n",
       "      <td>5.000000</td>\n",
       "      <td>5.000000</td>\n",
       "      <td>0.000000</td>\n",
       "      <td>186.000000</td>\n",
       "      <td>NaN</td>\n",
       "    </tr>\n",
       "    <tr>\n",
       "      <td>50%</td>\n",
       "      <td>57.000000</td>\n",
       "      <td>2.017041e+07</td>\n",
       "      <td>620.000000</td>\n",
       "      <td>5.000000</td>\n",
       "      <td>10.000000</td>\n",
       "      <td>7.000000</td>\n",
       "      <td>0.000000</td>\n",
       "      <td>408.000000</td>\n",
       "      <td>NaN</td>\n",
       "    </tr>\n",
       "    <tr>\n",
       "      <td>75%</td>\n",
       "      <td>72.000000</td>\n",
       "      <td>2.017113e+07</td>\n",
       "      <td>780.000000</td>\n",
       "      <td>5.000000</td>\n",
       "      <td>10.000000</td>\n",
       "      <td>7.000000</td>\n",
       "      <td>7.100000</td>\n",
       "      <td>528.000000</td>\n",
       "      <td>NaN</td>\n",
       "    </tr>\n",
       "    <tr>\n",
       "      <td>max</td>\n",
       "      <td>118.000000</td>\n",
       "      <td>2.018073e+07</td>\n",
       "      <td>1200.000000</td>\n",
       "      <td>10.000000</td>\n",
       "      <td>20.000000</td>\n",
       "      <td>10.000000</td>\n",
       "      <td>1062.280000</td>\n",
       "      <td>714.000000</td>\n",
       "      <td>NaN</td>\n",
       "    </tr>\n",
       "  </tbody>\n",
       "</table>\n",
       "</div>"
      ],
      "text/plain": [
       "                 age  became_member_on         income         reward  \\\n",
       "count  306495.000000      3.064950e+05  272729.000000  167576.000000   \n",
       "mean       60.908906      2.016545e+07     643.369609       4.419959   \n",
       "std        26.031801      1.190440e+04     212.442110       3.373393   \n",
       "min        18.000000      2.013073e+07     300.000000       0.000000   \n",
       "25%        43.000000      2.016032e+07     480.000000       2.000000   \n",
       "50%        57.000000      2.017041e+07     620.000000       5.000000   \n",
       "75%        72.000000      2.017113e+07     780.000000       5.000000   \n",
       "max       118.000000      2.018073e+07    1200.000000      10.000000   \n",
       "\n",
       "          difficulty       duration           o_id         amount  time  \n",
       "count  167576.000000  167576.000000  306495.000000  306495.000000   0.0  \n",
       "mean        7.850295       6.610654       5.791364     366.338707   NaN  \n",
       "std         5.048923       2.136098      21.337998     200.300675   NaN  \n",
       "min         0.000000       3.000000       0.000000       0.000000   NaN  \n",
       "25%         5.000000       5.000000       0.000000     186.000000   NaN  \n",
       "50%        10.000000       7.000000       0.000000     408.000000   NaN  \n",
       "75%        10.000000       7.000000       7.100000     528.000000   NaN  \n",
       "max        20.000000      10.000000    1062.280000     714.000000   NaN  "
      ]
     },
     "execution_count": 76,
     "metadata": {},
     "output_type": "execute_result"
    }
   ],
   "source": [
    "data.describe()"
   ]
  },
  {
   "cell_type": "code",
   "execution_count": 77,
   "metadata": {},
   "outputs": [
    {
     "data": {
      "text/plain": [
       "<seaborn.axisgrid.FacetGrid at 0x7fc96ec9de90>"
      ]
     },
     "execution_count": 77,
     "metadata": {},
     "output_type": "execute_result"
    },
    {
     "data": {
      "image/png": "[encoded data removed]",
      "text/plain": [
       "<Figure size 360x360 with 1 Axes>"
      ]
     },
     "metadata": {},
     "output_type": "display_data"
    }
   ],
   "source": [
    "import seaborn as sns\n",
    "sns.set()\n",
    "# dots = sns.load_dataset(\"data\")\n",
    "sns.relplot(x=\"age\", y=\"income\", data=data, kind=\"line\")"
   ]
  },
  {
   "cell_type": "code",
   "execution_count": 78,
   "metadata": {},
   "outputs": [
    {
     "data": {
      "text/plain": [
       "<seaborn.axisgrid.FacetGrid at 0x7fc96ecb9110>"
      ]
     },
     "execution_count": 78,
     "metadata": {},
     "output_type": "execute_result"
    },
    {
     "data": {
      "image/png": "[encoded data removed]",
      "text/plain": [
       "<Figure size 360x360 with 1 Axes>"
      ]
     },
     "metadata": {},
     "output_type": "display_data"
    }
   ],
   "source": [
    "sns.relplot(x=\"reward\", y=\"difficulty\", data=data, kind=\"line\")"
   ]
  },
  {
   "cell_type": "code",
   "execution_count": 85,
   "metadata": {},
   "outputs": [
    {
     "data": {
      "text/plain": [
       "<seaborn.axisgrid.FacetGrid at 0x7fc96ebb7e10>"
      ]
     },
     "execution_count": 85,
     "metadata": {},
     "output_type": "execute_result"
    },
    {
     "data": {
      "image/png": "[encoded data removed]",
      "text/plain": [
       "<Figure size 360x360 with 1 Axes>"
      ]
     },
     "metadata": {},
     "output_type": "display_data"
    }
   ],
   "source": [
    "sns.relplot(x=\"income\", y=\"amount\", data=data, kind=\"line\")"
   ]
  },
  {
   "cell_type": "code",
   "execution_count": 81,
   "metadata": {},
   "outputs": [
    {
     "data": {
      "text/plain": [
       "<seaborn.axisgrid.FacetGrid at 0x7fc96ecc2910>"
      ]
     },
     "execution_count": 81,
     "metadata": {},
     "output_type": "execute_result"
    },
    {
     "data": {
      "image/png": "[encoded data removed]",
      "text/plain": [
       "<Figure size 360x360 with 1 Axes>"
      ]
     },
     "metadata": {},
     "output_type": "display_data"
    }
   ],
   "source": [
    "sns.relplot(x=\"reward\", y=\"duration\", data=data, kind=\"line\")"
   ]
  },
  {
   "cell_type": "code",
   "execution_count": 82,
   "metadata": {},
   "outputs": [
    {
     "data": {
      "text/plain": [
       "<seaborn.axisgrid.FacetGrid at 0x7fc96eb9ca90>"
      ]
     },
     "execution_count": 82,
     "metadata": {},
     "output_type": "execute_result"
    },
    {
     "data": {
      "image/png": "[encoded data removed]",
      "text/plain": [
       "<Figure size 360x360 with 1 Axes>"
      ]
     },
     "metadata": {},
     "output_type": "display_data"
    }
   ],
   "source": [
    "sns.relplot(x=\"difficulty\", y=\"reward\", data=data, kind=\"line\")"
   ]
  },
  {
   "cell_type": "code",
   "execution_count": 69,
   "metadata": {},
   "outputs": [
    {
     "data": {
      "text/plain": [
       "17000"
      ]
     },
     "execution_count": 69,
     "metadata": {},
     "output_type": "execute_result"
    }
   ],
   "source": [
    "len(data.p_id.unique())"
   ]
  },
  {
   "cell_type": "code",
   "execution_count": 70,
   "metadata": {},
   "outputs": [
    {
     "data": {
      "text/plain": [
       "306495"
      ]
     },
     "execution_count": 70,
     "metadata": {},
     "output_type": "execute_result"
    }
   ],
   "source": [
    "data.dropna()\n",
    "len(data)"
   ]
  },
  {
   "cell_type": "code",
   "execution_count": 100,
   "metadata": {},
   "outputs": [],
   "source": [
    "data = data.dropna(subset=[\"offer_type\"])\n"
   ]
  },
  {
   "cell_type": "code",
   "execution_count": 101,
   "metadata": {},
   "outputs": [
    {
     "data": {
      "text/plain": [
       "array(['F', nan, 'M', 'O'], dtype=object)"
      ]
     },
     "execution_count": 101,
     "metadata": {},
     "output_type": "execute_result"
    }
   ],
   "source": [
    "data.gender.unique()"
   ]
  },
  {
   "cell_type": "code",
   "execution_count": 103,
   "metadata": {},
   "outputs": [],
   "source": [
    "values = {'gender':'O', 'age': data[\"age\"].median(), 'income': 0, 'reward': 0, \"difficulty\":0}\n",
    "data = data.fillna(value=values)\n"
   ]
  },
  {
   "cell_type": "code",
   "execution_count": 120,
   "metadata": {},
   "outputs": [],
   "source": [
    "from sklearn.preprocessing import OneHotEncoder\n",
    "enc = OneHotEncoder(handle_unknown='ignore')\n"
   ]
  },
  {
   "cell_type": "code",
   "execution_count": 239,
   "metadata": {},
   "outputs": [],
   "source": [
    "# dummy = data[[\"gender\", \"age\", \"income\", \"reward\", \"difficulty\",\"offer_type\"]]\n",
    "X = data[[\"gender\", \"age\", \"income\", \"reward\", \"difficulty\"]]\n",
    "y = data[[\"offer_type\"]]"
   ]
  },
  {
   "cell_type": "code",
   "execution_count": 240,
   "metadata": {},
   "outputs": [],
   "source": [
    "# dummy = enc.fit_transform(dummy).toarray()"
   ]
  },
  {
   "cell_type": "code",
   "execution_count": 241,
   "metadata": {},
   "outputs": [],
   "source": [
    "# dummy"
   ]
  },
  {
   "cell_type": "code",
   "execution_count": 242,
   "metadata": {},
   "outputs": [],
   "source": [
    "# y = dummy[:,-1]\n",
    "# X = dummy[:,:-1]"
   ]
  },
  {
   "cell_type": "code",
   "execution_count": 243,
   "metadata": {},
   "outputs": [],
   "source": [
    "# y"
   ]
  },
  {
   "cell_type": "code",
   "execution_count": 244,
   "metadata": {},
   "outputs": [
    {
     "data": {
      "text/plain": [
       "167576"
      ]
     },
     "execution_count": 244,
     "metadata": {},
     "output_type": "execute_result"
    }
   ],
   "source": [
    "len(X)"
   ]
  },
  {
   "cell_type": "code",
   "execution_count": 245,
   "metadata": {},
   "outputs": [
    {
     "data": {
      "text/plain": [
       "167576"
      ]
     },
     "execution_count": 245,
     "metadata": {},
     "output_type": "execute_result"
    }
   ],
   "source": [
    "len(y)"
   ]
  },
  {
   "cell_type": "code",
   "execution_count": 246,
   "metadata": {},
   "outputs": [
    {
     "data": {
      "text/html": [
       "<div>\n",
       "<style scoped>\n",
       "    .dataframe tbody tr th:only-of-type {\n",
       "        vertical-align: middle;\n",
       "    }\n",
       "\n",
       "    .dataframe tbody tr th {\n",
       "        vertical-align: top;\n",
       "    }\n",
       "\n",
       "    .dataframe thead th {\n",
       "        text-align: right;\n",
       "    }\n",
       "</style>\n",
       "<table border=\"1\" class=\"dataframe\">\n",
       "  <thead>\n",
       "    <tr style=\"text-align: right;\">\n",
       "      <th></th>\n",
       "      <th>gender</th>\n",
       "      <th>age</th>\n",
       "      <th>income</th>\n",
       "      <th>reward</th>\n",
       "      <th>difficulty</th>\n",
       "    </tr>\n",
       "  </thead>\n",
       "  <tbody>\n",
       "    <tr>\n",
       "      <td>0</td>\n",
       "      <td>F</td>\n",
       "      <td>75</td>\n",
       "      <td>1000.0</td>\n",
       "      <td>5.0</td>\n",
       "      <td>5.0</td>\n",
       "    </tr>\n",
       "    <tr>\n",
       "      <td>1</td>\n",
       "      <td>O</td>\n",
       "      <td>118</td>\n",
       "      <td>0.0</td>\n",
       "      <td>5.0</td>\n",
       "      <td>20.0</td>\n",
       "    </tr>\n",
       "    <tr>\n",
       "      <td>2</td>\n",
       "      <td>M</td>\n",
       "      <td>68</td>\n",
       "      <td>700.0</td>\n",
       "      <td>2.0</td>\n",
       "      <td>10.0</td>\n",
       "    </tr>\n",
       "    <tr>\n",
       "      <td>3</td>\n",
       "      <td>O</td>\n",
       "      <td>118</td>\n",
       "      <td>0.0</td>\n",
       "      <td>2.0</td>\n",
       "      <td>10.0</td>\n",
       "    </tr>\n",
       "    <tr>\n",
       "      <td>4</td>\n",
       "      <td>O</td>\n",
       "      <td>118</td>\n",
       "      <td>0.0</td>\n",
       "      <td>10.0</td>\n",
       "      <td>10.0</td>\n",
       "    </tr>\n",
       "  </tbody>\n",
       "</table>\n",
       "</div>"
      ],
      "text/plain": [
       "  gender  age  income  reward  difficulty\n",
       "0      F   75  1000.0     5.0         5.0\n",
       "1      O  118     0.0     5.0        20.0\n",
       "2      M   68   700.0     2.0        10.0\n",
       "3      O  118     0.0     2.0        10.0\n",
       "4      O  118     0.0    10.0        10.0"
      ]
     },
     "execution_count": 246,
     "metadata": {},
     "output_type": "execute_result"
    }
   ],
   "source": [
    "X.head()"
   ]
  },
  {
   "cell_type": "code",
   "execution_count": 247,
   "metadata": {},
   "outputs": [
    {
     "data": {
      "text/html": [
       "<div>\n",
       "<style scoped>\n",
       "    .dataframe tbody tr th:only-of-type {\n",
       "        vertical-align: middle;\n",
       "    }\n",
       "\n",
       "    .dataframe tbody tr th {\n",
       "        vertical-align: top;\n",
       "    }\n",
       "\n",
       "    .dataframe thead th {\n",
       "        text-align: right;\n",
       "    }\n",
       "</style>\n",
       "<table border=\"1\" class=\"dataframe\">\n",
       "  <thead>\n",
       "    <tr style=\"text-align: right;\">\n",
       "      <th></th>\n",
       "      <th>offer_type</th>\n",
       "    </tr>\n",
       "  </thead>\n",
       "  <tbody>\n",
       "    <tr>\n",
       "      <td>0</td>\n",
       "      <td>bogo</td>\n",
       "    </tr>\n",
       "    <tr>\n",
       "      <td>1</td>\n",
       "      <td>discount</td>\n",
       "    </tr>\n",
       "    <tr>\n",
       "      <td>2</td>\n",
       "      <td>discount</td>\n",
       "    </tr>\n",
       "    <tr>\n",
       "      <td>3</td>\n",
       "      <td>discount</td>\n",
       "    </tr>\n",
       "    <tr>\n",
       "      <td>4</td>\n",
       "      <td>bogo</td>\n",
       "    </tr>\n",
       "  </tbody>\n",
       "</table>\n",
       "</div>"
      ],
      "text/plain": [
       "  offer_type\n",
       "0       bogo\n",
       "1   discount\n",
       "2   discount\n",
       "3   discount\n",
       "4       bogo"
      ]
     },
     "execution_count": 247,
     "metadata": {},
     "output_type": "execute_result"
    }
   ],
   "source": [
    "y.head()"
   ]
  },
  {
   "cell_type": "code",
   "execution_count": 248,
   "metadata": {},
   "outputs": [],
   "source": [
    "# from sklearn.preprocessing import OneHotEncoder\n",
    "# enc = OneHotEncoder(handle_unknown='ignore')\n",
    "# # x =X_enc.fit_transform(X)\n",
    "# # y_enc = OneHotEncoder(handle_unknown='ignore')\n",
    "# # y = y_enc.fit_transform(y)"
   ]
  },
  {
   "cell_type": "code",
   "execution_count": 249,
   "metadata": {},
   "outputs": [
    {
     "name": "stderr",
     "output_type": "stream",
     "text": [
      "/home/kushagra/anaconda3/lib/python3.7/site-packages/ipykernel_launcher.py:3: SettingWithCopyWarning: \n",
      "A value is trying to be set on a copy of a slice from a DataFrame.\n",
      "Try using .loc[row_indexer,col_indexer] = value instead\n",
      "\n",
      "See the caveats in the documentation: http://pandas.pydata.org/pandas-docs/stable/user_guide/indexing.html#returning-a-view-versus-a-copy\n",
      "  This is separate from the ipykernel package so we can avoid doing imports until\n",
      "/home/kushagra/anaconda3/lib/python3.7/site-packages/ipykernel_launcher.py:4: SettingWithCopyWarning: \n",
      "A value is trying to be set on a copy of a slice from a DataFrame.\n",
      "Try using .loc[row_indexer,col_indexer] = value instead\n",
      "\n",
      "See the caveats in the documentation: http://pandas.pydata.org/pandas-docs/stable/user_guide/indexing.html#returning-a-view-versus-a-copy\n",
      "  after removing the cwd from sys.path.\n"
     ]
    }
   ],
   "source": [
    "from sklearn.preprocessing import LabelEncoder\n",
    "le = LabelEncoder()\n",
    "X[\"gender\"] = le.fit_transform(X[\"gender\"])\n",
    "y[\"offer_type\"] = le.fit_transform(y[\"offer_type\"])"
   ]
  },
  {
   "cell_type": "code",
   "execution_count": 250,
   "metadata": {},
   "outputs": [],
   "source": [
    "# X = enc.fit_transform(X,y)"
   ]
  },
  {
   "cell_type": "code",
   "execution_count": 251,
   "metadata": {},
   "outputs": [],
   "source": [
    "# y.head()"
   ]
  },
  {
   "cell_type": "code",
   "execution_count": 252,
   "metadata": {},
   "outputs": [],
   "source": [
    "from sklearn.model_selection import train_test_split\n",
    "X_train , X_test, y_train, y_test =train_test_split(X, y, test_size=0.3, random_state=42)\n"
   ]
  },
  {
   "cell_type": "code",
   "execution_count": 253,
   "metadata": {},
   "outputs": [
    {
     "data": {
      "text/plain": [
       "array([0, 1, 2])"
      ]
     },
     "execution_count": 253,
     "metadata": {},
     "output_type": "execute_result"
    }
   ],
   "source": [
    "y.offer_type.unique()"
   ]
  },
  {
   "cell_type": "code",
   "execution_count": 254,
   "metadata": {},
   "outputs": [
    {
     "name": "stderr",
     "output_type": "stream",
     "text": [
      "/home/kushagra/anaconda3/lib/python3.7/site-packages/sklearn/utils/validation.py:724: DataConversionWarning: A column-vector y was passed when a 1d array was expected. Please change the shape of y to (n_samples, ), for example using ravel().\n",
      "  y = column_or_1d(y, warn=True)\n",
      "/home/kushagra/anaconda3/lib/python3.7/site-packages/sklearn/svm/base.py:929: ConvergenceWarning: Liblinear failed to converge, increase the number of iterations.\n",
      "  \"the number of iterations.\", ConvergenceWarning)\n"
     ]
    },
    {
     "data": {
      "text/plain": [
       "LinearSVC(C=1.0, class_weight=None, dual=True, fit_intercept=True,\n",
       "          intercept_scaling=1, loss='squared_hinge', max_iter=1000,\n",
       "          multi_class='ovr', penalty='l2', random_state=0, tol=1e-05,\n",
       "          verbose=0)"
      ]
     },
     "execution_count": 254,
     "metadata": {},
     "output_type": "execute_result"
    }
   ],
   "source": [
    "from sklearn.svm import LinearSVC\n",
    "clf = LinearSVC(random_state=0, tol=1e-5)\n",
    "clf.fit(X_train, y_train)"
   ]
  },
  {
   "cell_type": "code",
   "execution_count": 255,
   "metadata": {},
   "outputs": [],
   "source": [
    "pred = clf.predict(X_test)"
   ]
  },
  {
   "cell_type": "code",
   "execution_count": 256,
   "metadata": {},
   "outputs": [
    {
     "data": {
      "text/plain": [
       "50273"
      ]
     },
     "execution_count": 256,
     "metadata": {},
     "output_type": "execute_result"
    }
   ],
   "source": [
    "len(y_test)"
   ]
  },
  {
   "cell_type": "code",
   "execution_count": 257,
   "metadata": {},
   "outputs": [
    {
     "data": {
      "text/plain": [
       "1.0"
      ]
     },
     "execution_count": 257,
     "metadata": {},
     "output_type": "execute_result"
    }
   ],
   "source": [
    "from sklearn.metrics import accuracy_score\n",
    "accuracy_score(pred, y_test)"
   ]
  },
  {
   "cell_type": "code",
   "execution_count": 259,
   "metadata": {},
   "outputs": [],
   "source": [
    "# clf.predict([X_test[0]])"
   ]
  },
  {
   "cell_type": "code",
   "execution_count": null,
   "metadata": {},
   "outputs": [],
   "source": []
  },
  {
   "cell_type": "code",
   "execution_count": null,
   "metadata": {},
   "outputs": [],
   "source": []
  }
 ],
 "metadata": {
  "kernelspec": {
   "display_name": "Python 3",
   "language": "python",
   "name": "python3"
  },
  "language_info": {
   "codemirror_mode": {
    "name": "ipython",
    "version": 3
   },
   "file_extension": ".py",
   "mimetype": "text/x-python",
   "name": "python",
   "nbconvert_exporter": "python",
   "pygments_lexer": "ipython3",
   "version": "3.7.4"
  }
 },
 "nbformat": 4,
 "nbformat_minor": 2
}
